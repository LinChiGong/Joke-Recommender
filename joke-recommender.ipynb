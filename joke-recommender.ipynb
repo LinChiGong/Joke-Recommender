{
 "cells": [
  {
   "cell_type": "code",
   "execution_count": 27,
   "metadata": {
    "collapsed": false
   },
   "outputs": [],
   "source": [
    "import graphlab\n",
    "import pandas as pd\n",
    "import numpy as np\n",
    "from sklearn.metrics import mean_squared_error\n",
    "from bs4 import BeautifulSoup\n",
    "import matplotlib.pyplot as plt\n",
    "%matplotlib inline"
   ]
  },
  {
   "cell_type": "code",
   "execution_count": 2,
   "metadata": {
    "collapsed": false
   },
   "outputs": [],
   "source": [
    "'''\n",
    "Read files into dataframes.\n",
    "File \"jokes.dat\" contains all jokes ordered by id.\n",
    "File \"ratings.dat\" has 3 columns: user_id, joke_id, and the corresponding rating.\n",
    "'''\n",
    "df_jokes = pd.read_table('data/jokes.dat', names=['jokes'])\n",
    "df_ratings = pd.read_table('data/ratings.dat')"
   ]
  },
  {
   "cell_type": "code",
   "execution_count": 6,
   "metadata": {
    "collapsed": false
   },
   "outputs": [
    {
     "data": {
      "text/html": [
       "<div>\n",
       "<table border=\"1\" class=\"dataframe\">\n",
       "  <thead>\n",
       "    <tr style=\"text-align: right;\">\n",
       "      <th></th>\n",
       "      <th>jokes</th>\n",
       "    </tr>\n",
       "  </thead>\n",
       "  <tbody>\n",
       "    <tr>\n",
       "      <th>0</th>\n",
       "      <td>1:</td>\n",
       "    </tr>\n",
       "    <tr>\n",
       "      <th>1</th>\n",
       "      <td>&lt;p&gt;</td>\n",
       "    </tr>\n",
       "    <tr>\n",
       "      <th>2</th>\n",
       "      <td>A man visits the doctor. The doctor says, &amp;quo...</td>\n",
       "    </tr>\n",
       "    <tr>\n",
       "      <th>3</th>\n",
       "      <td>&lt;br /&gt;</td>\n",
       "    </tr>\n",
       "    <tr>\n",
       "      <th>4</th>\n",
       "      <td>The man replies, &amp;quot;Well, thank God I don&amp;#...</td>\n",
       "    </tr>\n",
       "  </tbody>\n",
       "</table>\n",
       "</div>"
      ],
      "text/plain": [
       "                                               jokes\n",
       "0                                                 1:\n",
       "1                                                <p>\n",
       "2  A man visits the doctor. The doctor says, &quo...\n",
       "3                                             <br />\n",
       "4  The man replies, &quot;Well, thank God I don&#..."
      ]
     },
     "execution_count": 6,
     "metadata": {},
     "output_type": "execute_result"
    }
   ],
   "source": [
    "df_jokes.head()"
   ]
  },
  {
   "cell_type": "code",
   "execution_count": 4,
   "metadata": {
    "collapsed": false
   },
   "outputs": [
    {
     "data": {
      "text/html": [
       "<div>\n",
       "<table border=\"1\" class=\"dataframe\">\n",
       "  <thead>\n",
       "    <tr style=\"text-align: right;\">\n",
       "      <th></th>\n",
       "      <th>user_id</th>\n",
       "      <th>joke_id</th>\n",
       "      <th>rating</th>\n",
       "    </tr>\n",
       "  </thead>\n",
       "  <tbody>\n",
       "    <tr>\n",
       "      <th>0</th>\n",
       "      <td>34888</td>\n",
       "      <td>111</td>\n",
       "      <td>-9.71875</td>\n",
       "    </tr>\n",
       "    <tr>\n",
       "      <th>1</th>\n",
       "      <td>49651</td>\n",
       "      <td>119</td>\n",
       "      <td>4.75000</td>\n",
       "    </tr>\n",
       "    <tr>\n",
       "      <th>2</th>\n",
       "      <td>29027</td>\n",
       "      <td>137</td>\n",
       "      <td>2.62500</td>\n",
       "    </tr>\n",
       "    <tr>\n",
       "      <th>3</th>\n",
       "      <td>25235</td>\n",
       "      <td>30</td>\n",
       "      <td>-2.43750</td>\n",
       "    </tr>\n",
       "    <tr>\n",
       "      <th>4</th>\n",
       "      <td>50499</td>\n",
       "      <td>19</td>\n",
       "      <td>2.18750</td>\n",
       "    </tr>\n",
       "  </tbody>\n",
       "</table>\n",
       "</div>"
      ],
      "text/plain": [
       "   user_id  joke_id   rating\n",
       "0    34888      111 -9.71875\n",
       "1    49651      119  4.75000\n",
       "2    29027      137  2.62500\n",
       "3    25235       30 -2.43750\n",
       "4    50499       19  2.18750"
      ]
     },
     "execution_count": 4,
     "metadata": {},
     "output_type": "execute_result"
    }
   ],
   "source": [
    "df_ratings.head()"
   ]
  },
  {
   "cell_type": "code",
   "execution_count": 9,
   "metadata": {
    "collapsed": false
   },
   "outputs": [
    {
     "name": "stdout",
     "output_type": "stream",
     "text": [
      "jokes    A man visits the doctor. The doctor says, &quo...\n",
      "Name: 2, dtype: object\n"
     ]
    }
   ],
   "source": [
    "print df_jokes.iloc[2]"
   ]
  },
  {
   "cell_type": "code",
   "execution_count": 7,
   "metadata": {
    "collapsed": false
   },
   "outputs": [
    {
     "name": "stdout",
     "output_type": "stream",
     "text": [
      "(1277, 1)\n",
      "(1218325, 3)\n"
     ]
    }
   ],
   "source": [
    "print df_jokes.shape\n",
    "print df_ratings.shape"
   ]
  },
  {
   "cell_type": "code",
   "execution_count": 13,
   "metadata": {
    "collapsed": false
   },
   "outputs": [],
   "source": [
    "'''\n",
    "The jokes table is not in a good format and contains unwanted signs and texts.\n",
    "Write a function to clean up the table.\n",
    "'''\n",
    "i = 1\n",
    "jokes = []\n",
    "joke = []\n",
    "for line in df_jokes['jokes'].values:\n",
    "    if str(i) + ':' == line:\n",
    "        i += 1\n",
    "        jokes.append(joke)\n",
    "        joke = []\n",
    "    else:\n",
    "        joke.append(line)\n",
    "        \n",
    "jokes.append(joke)  \n",
    "jokes = jokes[1:]"
   ]
  },
  {
   "cell_type": "code",
   "execution_count": 15,
   "metadata": {
    "collapsed": false
   },
   "outputs": [
    {
     "name": "stdout",
     "output_type": "stream",
     "text": [
      "150\n",
      "['<p>', 'A man visits the doctor. The doctor says, &quot;I have bad news for you. You have cancer and Alzheimer&#039;s disease&quot;.<br />', '<br />', 'The man replies, &quot;Well, thank God I don&#039;t have cancer!&quot;', '</p>']\n"
     ]
    }
   ],
   "source": [
    "print len(jokes)\n",
    "print jokes[0]"
   ]
  },
  {
   "cell_type": "code",
   "execution_count": 17,
   "metadata": {
    "collapsed": false
   },
   "outputs": [],
   "source": [
    "'''\n",
    "Still, there are some html tags in the texts.\n",
    "Take them out with BeautifulSoup.\n",
    "'''\n",
    "cleanjokeslist = []\n",
    "for joke in jokes:\n",
    "    soup = BeautifulSoup(''.join(joke), 'html.parser')\n",
    "    cleanjokeslist.append(soup.text)"
   ]
  },
  {
   "cell_type": "code",
   "execution_count": 18,
   "metadata": {
    "collapsed": false
   },
   "outputs": [
    {
     "data": {
      "text/plain": [
       "u'A man visits the doctor. The doctor says, \"I have bad news for you. You have cancer and Alzheimer\\'s disease\".The man replies, \"Well, thank God I don\\'t have cancer!\"'"
      ]
     },
     "execution_count": 18,
     "metadata": {},
     "output_type": "execute_result"
    }
   ],
   "source": [
    "#joke id = cleanjokestable index + 1 \n",
    "cleanjokeslist[0] #this is the first joke"
   ]
  },
  {
   "cell_type": "code",
   "execution_count": 19,
   "metadata": {
    "collapsed": true
   },
   "outputs": [],
   "source": [
    "'''\n",
    "Store our ratings data in Dato's SFrame type. \n",
    "'''\n",
    "sf = graphlab.SFrame(df_ratings[['user_id', 'joke_id', 'rating']])"
   ]
  },
  {
   "cell_type": "code",
   "execution_count": 20,
   "metadata": {
    "collapsed": false
   },
   "outputs": [
    {
     "data": {
      "text/html": [
       "<div style=\"max-height:1000px;max-width:1500px;overflow:auto;\"><table frame=\"box\" rules=\"cols\">\n",
       "    <tr>\n",
       "        <th style=\"padding-left: 1em; padding-right: 1em; text-align: center\">user_id</th>\n",
       "        <th style=\"padding-left: 1em; padding-right: 1em; text-align: center\">joke_id</th>\n",
       "        <th style=\"padding-left: 1em; padding-right: 1em; text-align: center\">rating</th>\n",
       "    </tr>\n",
       "    <tr>\n",
       "        <td style=\"padding-left: 1em; padding-right: 1em; text-align: center; vertical-align: top\">34888</td>\n",
       "        <td style=\"padding-left: 1em; padding-right: 1em; text-align: center; vertical-align: top\">111</td>\n",
       "        <td style=\"padding-left: 1em; padding-right: 1em; text-align: center; vertical-align: top\">-9.71875</td>\n",
       "    </tr>\n",
       "    <tr>\n",
       "        <td style=\"padding-left: 1em; padding-right: 1em; text-align: center; vertical-align: top\">49651</td>\n",
       "        <td style=\"padding-left: 1em; padding-right: 1em; text-align: center; vertical-align: top\">119</td>\n",
       "        <td style=\"padding-left: 1em; padding-right: 1em; text-align: center; vertical-align: top\">4.75</td>\n",
       "    </tr>\n",
       "    <tr>\n",
       "        <td style=\"padding-left: 1em; padding-right: 1em; text-align: center; vertical-align: top\">29027</td>\n",
       "        <td style=\"padding-left: 1em; padding-right: 1em; text-align: center; vertical-align: top\">137</td>\n",
       "        <td style=\"padding-left: 1em; padding-right: 1em; text-align: center; vertical-align: top\">2.625</td>\n",
       "    </tr>\n",
       "    <tr>\n",
       "        <td style=\"padding-left: 1em; padding-right: 1em; text-align: center; vertical-align: top\">25235</td>\n",
       "        <td style=\"padding-left: 1em; padding-right: 1em; text-align: center; vertical-align: top\">30</td>\n",
       "        <td style=\"padding-left: 1em; padding-right: 1em; text-align: center; vertical-align: top\">-2.4375</td>\n",
       "    </tr>\n",
       "    <tr>\n",
       "        <td style=\"padding-left: 1em; padding-right: 1em; text-align: center; vertical-align: top\">50499</td>\n",
       "        <td style=\"padding-left: 1em; padding-right: 1em; text-align: center; vertical-align: top\">19</td>\n",
       "        <td style=\"padding-left: 1em; padding-right: 1em; text-align: center; vertical-align: top\">2.1875</td>\n",
       "    </tr>\n",
       "    <tr>\n",
       "        <td style=\"padding-left: 1em; padding-right: 1em; text-align: center; vertical-align: top\">7300</td>\n",
       "        <td style=\"padding-left: 1em; padding-right: 1em; text-align: center; vertical-align: top\">51</td>\n",
       "        <td style=\"padding-left: 1em; padding-right: 1em; text-align: center; vertical-align: top\">9.3125</td>\n",
       "    </tr>\n",
       "    <tr>\n",
       "        <td style=\"padding-left: 1em; padding-right: 1em; text-align: center; vertical-align: top\">30219</td>\n",
       "        <td style=\"padding-left: 1em; padding-right: 1em; text-align: center; vertical-align: top\">9</td>\n",
       "        <td style=\"padding-left: 1em; padding-right: 1em; text-align: center; vertical-align: top\">2.3125</td>\n",
       "    </tr>\n",
       "    <tr>\n",
       "        <td style=\"padding-left: 1em; padding-right: 1em; text-align: center; vertical-align: top\">29443</td>\n",
       "        <td style=\"padding-left: 1em; padding-right: 1em; text-align: center; vertical-align: top\">134</td>\n",
       "        <td style=\"padding-left: 1em; padding-right: 1em; text-align: center; vertical-align: top\">3.1875</td>\n",
       "    </tr>\n",
       "    <tr>\n",
       "        <td style=\"padding-left: 1em; padding-right: 1em; text-align: center; vertical-align: top\">27069</td>\n",
       "        <td style=\"padding-left: 1em; padding-right: 1em; text-align: center; vertical-align: top\">128</td>\n",
       "        <td style=\"padding-left: 1em; padding-right: 1em; text-align: center; vertical-align: top\">1.21875</td>\n",
       "    </tr>\n",
       "    <tr>\n",
       "        <td style=\"padding-left: 1em; padding-right: 1em; text-align: center; vertical-align: top\">24450</td>\n",
       "        <td style=\"padding-left: 1em; padding-right: 1em; text-align: center; vertical-align: top\">120</td>\n",
       "        <td style=\"padding-left: 1em; padding-right: 1em; text-align: center; vertical-align: top\">10.0</td>\n",
       "    </tr>\n",
       "</table>\n",
       "[1218325 rows x 3 columns]<br/>Note: Only the head of the SFrame is printed.<br/>You can use print_rows(num_rows=m, num_columns=n) to print more rows and columns.\n",
       "</div>"
      ],
      "text/plain": [
       "Columns:\n",
       "\tuser_id\tint\n",
       "\tjoke_id\tint\n",
       "\trating\tfloat\n",
       "\n",
       "Rows: 1218325\n",
       "\n",
       "Data:\n",
       "+---------+---------+----------+\n",
       "| user_id | joke_id |  rating  |\n",
       "+---------+---------+----------+\n",
       "|  34888  |   111   | -9.71875 |\n",
       "|  49651  |   119   |   4.75   |\n",
       "|  29027  |   137   |  2.625   |\n",
       "|  25235  |    30   | -2.4375  |\n",
       "|  50499  |    19   |  2.1875  |\n",
       "|   7300  |    51   |  9.3125  |\n",
       "|  30219  |    9    |  2.3125  |\n",
       "|  29443  |   134   |  3.1875  |\n",
       "|  27069  |   128   | 1.21875  |\n",
       "|  24450  |   120   |   10.0   |\n",
       "+---------+---------+----------+\n",
       "[1218325 rows x 3 columns]\n",
       "Note: Only the head of the SFrame is printed.\n",
       "You can use print_rows(num_rows=m, num_columns=n) to print more rows and columns."
      ]
     },
     "execution_count": 20,
     "metadata": {},
     "output_type": "execute_result"
    }
   ],
   "source": [
    "sf"
   ]
  },
  {
   "cell_type": "code",
   "execution_count": 21,
   "metadata": {
    "collapsed": false
   },
   "outputs": [
    {
     "data": {
      "text/plain": [
       "(1218325, 3)"
      ]
     },
     "execution_count": 21,
     "metadata": {},
     "output_type": "execute_result"
    }
   ],
   "source": [
    "sf.shape"
   ]
  },
  {
   "cell_type": "code",
   "execution_count": 26,
   "metadata": {
    "collapsed": false
   },
   "outputs": [
    {
     "data": {
      "text/html": [
       "<pre>Recsys training: model = factorization_recommender</pre>"
      ],
      "text/plain": [
       "Recsys training: model = factorization_recommender"
      ]
     },
     "metadata": {},
     "output_type": "display_data"
    },
    {
     "data": {
      "text/html": [
       "<pre>Preparing data set.</pre>"
      ],
      "text/plain": [
       "Preparing data set."
      ]
     },
     "metadata": {},
     "output_type": "display_data"
    },
    {
     "data": {
      "text/html": [
       "<pre>    Data has 1218325 observations with 50692 users and 141 items.</pre>"
      ],
      "text/plain": [
       "    Data has 1218325 observations with 50692 users and 141 items."
      ]
     },
     "metadata": {},
     "output_type": "display_data"
    },
    {
     "data": {
      "text/html": [
       "<pre>    Data prepared in: 1.75387s</pre>"
      ],
      "text/plain": [
       "    Data prepared in: 1.75387s"
      ]
     },
     "metadata": {},
     "output_type": "display_data"
    },
    {
     "data": {
      "text/html": [
       "<pre>Training factorization_recommender for recommendations.</pre>"
      ],
      "text/plain": [
       "Training factorization_recommender for recommendations."
      ]
     },
     "metadata": {},
     "output_type": "display_data"
    },
    {
     "data": {
      "text/html": [
       "<pre>+------------------------------+--------------------------------------------------+----------+</pre>"
      ],
      "text/plain": [
       "+------------------------------+--------------------------------------------------+----------+"
      ]
     },
     "metadata": {},
     "output_type": "display_data"
    },
    {
     "data": {
      "text/html": [
       "<pre>| Parameter                    | Description                                      | Value    |</pre>"
      ],
      "text/plain": [
       "| Parameter                    | Description                                      | Value    |"
      ]
     },
     "metadata": {},
     "output_type": "display_data"
    },
    {
     "data": {
      "text/html": [
       "<pre>+------------------------------+--------------------------------------------------+----------+</pre>"
      ],
      "text/plain": [
       "+------------------------------+--------------------------------------------------+----------+"
      ]
     },
     "metadata": {},
     "output_type": "display_data"
    },
    {
     "data": {
      "text/html": [
       "<pre>| num_factors                  | Factor Dimension                                 | 8        |</pre>"
      ],
      "text/plain": [
       "| num_factors                  | Factor Dimension                                 | 8        |"
      ]
     },
     "metadata": {},
     "output_type": "display_data"
    },
    {
     "data": {
      "text/html": [
       "<pre>| regularization               | L2 Regularization on Factors                     | 0        |</pre>"
      ],
      "text/plain": [
       "| regularization               | L2 Regularization on Factors                     | 0        |"
      ]
     },
     "metadata": {},
     "output_type": "display_data"
    },
    {
     "data": {
      "text/html": [
       "<pre>| max_iterations               | Maximum Number of Iterations                     | 50       |</pre>"
      ],
      "text/plain": [
       "| max_iterations               | Maximum Number of Iterations                     | 50       |"
      ]
     },
     "metadata": {},
     "output_type": "display_data"
    },
    {
     "data": {
      "text/html": [
       "<pre>| solver                       | Solver used for training                         | als      |</pre>"
      ],
      "text/plain": [
       "| solver                       | Solver used for training                         | als      |"
      ]
     },
     "metadata": {},
     "output_type": "display_data"
    },
    {
     "data": {
      "text/html": [
       "<pre>+------------------------------+--------------------------------------------------+----------+</pre>"
      ],
      "text/plain": [
       "+------------------------------+--------------------------------------------------+----------+"
      ]
     },
     "metadata": {},
     "output_type": "display_data"
    },
    {
     "data": {
      "text/html": [
       "<pre>+---------+--------------+------------------------+</pre>"
      ],
      "text/plain": [
       "+---------+--------------+------------------------+"
      ]
     },
     "metadata": {},
     "output_type": "display_data"
    },
    {
     "data": {
      "text/html": [
       "<pre>| Iter.   | Elapsed time | RMSE                   |</pre>"
      ],
      "text/plain": [
       "| Iter.   | Elapsed time | RMSE                   |"
      ]
     },
     "metadata": {},
     "output_type": "display_data"
    },
    {
     "data": {
      "text/html": [
       "<pre>+---------+--------------+------------------------+</pre>"
      ],
      "text/plain": [
       "+---------+--------------+------------------------+"
      ]
     },
     "metadata": {},
     "output_type": "display_data"
    },
    {
     "data": {
      "text/html": [
       "<pre>| Initial | 104us        | NA                     |</pre>"
      ],
      "text/plain": [
       "| Initial | 104us        | NA                     |"
      ]
     },
     "metadata": {},
     "output_type": "display_data"
    },
    {
     "data": {
      "text/html": [
       "<pre>+---------+--------------+------------------------+</pre>"
      ],
      "text/plain": [
       "+---------+--------------+------------------------+"
      ]
     },
     "metadata": {},
     "output_type": "display_data"
    },
    {
     "data": {
      "text/html": [
       "<pre>| 0       | 878.916ms    | 4.04515                |</pre>"
      ],
      "text/plain": [
       "| 0       | 878.916ms    | 4.04515                |"
      ]
     },
     "metadata": {},
     "output_type": "display_data"
    },
    {
     "data": {
      "text/html": [
       "<pre>| 1       | 1.85s        | 3.27963                |</pre>"
      ],
      "text/plain": [
       "| 1       | 1.85s        | 3.27963                |"
      ]
     },
     "metadata": {},
     "output_type": "display_data"
    },
    {
     "data": {
      "text/html": [
       "<pre>| 2       | 2.86s        | 3.16455                |</pre>"
      ],
      "text/plain": [
       "| 2       | 2.86s        | 3.16455                |"
      ]
     },
     "metadata": {},
     "output_type": "display_data"
    },
    {
     "data": {
      "text/html": [
       "<pre>| 3       | 3.72s        | 3.11044                |</pre>"
      ],
      "text/plain": [
       "| 3       | 3.72s        | 3.11044                |"
      ]
     },
     "metadata": {},
     "output_type": "display_data"
    },
    {
     "data": {
      "text/html": [
       "<pre>| 4       | 4.53s        | 3.07688                |</pre>"
      ],
      "text/plain": [
       "| 4       | 4.53s        | 3.07688                |"
      ]
     },
     "metadata": {},
     "output_type": "display_data"
    },
    {
     "data": {
      "text/html": [
       "<pre>| 5       | 5.72s        | 3.05631                |</pre>"
      ],
      "text/plain": [
       "| 5       | 5.72s        | 3.05631                |"
      ]
     },
     "metadata": {},
     "output_type": "display_data"
    },
    {
     "data": {
      "text/html": [
       "<pre>| 6       | 6.99s        | 3.04346                |</pre>"
      ],
      "text/plain": [
       "| 6       | 6.99s        | 3.04346                |"
      ]
     },
     "metadata": {},
     "output_type": "display_data"
    },
    {
     "data": {
      "text/html": [
       "<pre>| 7       | 8.26s        | 3.03492                |</pre>"
      ],
      "text/plain": [
       "| 7       | 8.26s        | 3.03492                |"
      ]
     },
     "metadata": {},
     "output_type": "display_data"
    },
    {
     "data": {
      "text/html": [
       "<pre>| 8       | 9.31s        | 3.02884                |</pre>"
      ],
      "text/plain": [
       "| 8       | 9.31s        | 3.02884                |"
      ]
     },
     "metadata": {},
     "output_type": "display_data"
    },
    {
     "data": {
      "text/html": [
       "<pre>| 9       | 10.28s       | 3.02424                |</pre>"
      ],
      "text/plain": [
       "| 9       | 10.28s       | 3.02424                |"
      ]
     },
     "metadata": {},
     "output_type": "display_data"
    },
    {
     "data": {
      "text/html": [
       "<pre>| 10      | 11.14s       | 3.02058                |</pre>"
      ],
      "text/plain": [
       "| 10      | 11.14s       | 3.02058                |"
      ]
     },
     "metadata": {},
     "output_type": "display_data"
    },
    {
     "data": {
      "text/html": [
       "<pre>| 11      | 12.00s       | 3.01754                |</pre>"
      ],
      "text/plain": [
       "| 11      | 12.00s       | 3.01754                |"
      ]
     },
     "metadata": {},
     "output_type": "display_data"
    },
    {
     "data": {
      "text/html": [
       "<pre>| 12      | 12.83s       | 3.01494                |</pre>"
      ],
      "text/plain": [
       "| 12      | 12.83s       | 3.01494                |"
      ]
     },
     "metadata": {},
     "output_type": "display_data"
    },
    {
     "data": {
      "text/html": [
       "<pre>| 13      | 13.76s       | 3.01265                |</pre>"
      ],
      "text/plain": [
       "| 13      | 13.76s       | 3.01265                |"
      ]
     },
     "metadata": {},
     "output_type": "display_data"
    },
    {
     "data": {
      "text/html": [
       "<pre>| 14      | 14.60s       | 3.01061                |</pre>"
      ],
      "text/plain": [
       "| 14      | 14.60s       | 3.01061                |"
      ]
     },
     "metadata": {},
     "output_type": "display_data"
    },
    {
     "data": {
      "text/html": [
       "<pre>| 15      | 15.45s       | 3.00877                |</pre>"
      ],
      "text/plain": [
       "| 15      | 15.45s       | 3.00877                |"
      ]
     },
     "metadata": {},
     "output_type": "display_data"
    },
    {
     "data": {
      "text/html": [
       "<pre>| 16      | 16.37s       | 3.00712                |</pre>"
      ],
      "text/plain": [
       "| 16      | 16.37s       | 3.00712                |"
      ]
     },
     "metadata": {},
     "output_type": "display_data"
    },
    {
     "data": {
      "text/html": [
       "<pre>| 17      | 17.24s       | 3.00565                |</pre>"
      ],
      "text/plain": [
       "| 17      | 17.24s       | 3.00565                |"
      ]
     },
     "metadata": {},
     "output_type": "display_data"
    },
    {
     "data": {
      "text/html": [
       "<pre>| 18      | 18.13s       | 3.00433                |</pre>"
      ],
      "text/plain": [
       "| 18      | 18.13s       | 3.00433                |"
      ]
     },
     "metadata": {},
     "output_type": "display_data"
    },
    {
     "data": {
      "text/html": [
       "<pre>| 19      | 19.40s       | 3.00314                |</pre>"
      ],
      "text/plain": [
       "| 19      | 19.40s       | 3.00314                |"
      ]
     },
     "metadata": {},
     "output_type": "display_data"
    },
    {
     "data": {
      "text/html": [
       "<pre>| 20      | 20.55s       | 3.00206                |</pre>"
      ],
      "text/plain": [
       "| 20      | 20.55s       | 3.00206                |"
      ]
     },
     "metadata": {},
     "output_type": "display_data"
    },
    {
     "data": {
      "text/html": [
       "<pre>| 21      | 21.43s       | 3.00107                |</pre>"
      ],
      "text/plain": [
       "| 21      | 21.43s       | 3.00107                |"
      ]
     },
     "metadata": {},
     "output_type": "display_data"
    },
    {
     "data": {
      "text/html": [
       "<pre>| 22      | 22.63s       | 3.00017                |</pre>"
      ],
      "text/plain": [
       "| 22      | 22.63s       | 3.00017                |"
      ]
     },
     "metadata": {},
     "output_type": "display_data"
    },
    {
     "data": {
      "text/html": [
       "<pre>| 23      | 23.84s       | 2.99933                |</pre>"
      ],
      "text/plain": [
       "| 23      | 23.84s       | 2.99933                |"
      ]
     },
     "metadata": {},
     "output_type": "display_data"
    },
    {
     "data": {
      "text/html": [
       "<pre>| 24      | 24.80s       | 2.99855                |</pre>"
      ],
      "text/plain": [
       "| 24      | 24.80s       | 2.99855                |"
      ]
     },
     "metadata": {},
     "output_type": "display_data"
    },
    {
     "data": {
      "text/html": [
       "<pre>| 25      | 25.63s       | 2.99783                |</pre>"
      ],
      "text/plain": [
       "| 25      | 25.63s       | 2.99783                |"
      ]
     },
     "metadata": {},
     "output_type": "display_data"
    },
    {
     "data": {
      "text/html": [
       "<pre>| 26      | 26.46s       | 2.99715                |</pre>"
      ],
      "text/plain": [
       "| 26      | 26.46s       | 2.99715                |"
      ]
     },
     "metadata": {},
     "output_type": "display_data"
    },
    {
     "data": {
      "text/html": [
       "<pre>| 27      | 27.27s       | 2.99652                |</pre>"
      ],
      "text/plain": [
       "| 27      | 27.27s       | 2.99652                |"
      ]
     },
     "metadata": {},
     "output_type": "display_data"
    },
    {
     "data": {
      "text/html": [
       "<pre>| 28      | 28.09s       | 2.99592                |</pre>"
      ],
      "text/plain": [
       "| 28      | 28.09s       | 2.99592                |"
      ]
     },
     "metadata": {},
     "output_type": "display_data"
    },
    {
     "data": {
      "text/html": [
       "<pre>| 29      | 28.93s       | 2.99535                |</pre>"
      ],
      "text/plain": [
       "| 29      | 28.93s       | 2.99535                |"
      ]
     },
     "metadata": {},
     "output_type": "display_data"
    },
    {
     "data": {
      "text/html": [
       "<pre>| 30      | 29.77s       | 2.99482                |</pre>"
      ],
      "text/plain": [
       "| 30      | 29.77s       | 2.99482                |"
      ]
     },
     "metadata": {},
     "output_type": "display_data"
    },
    {
     "data": {
      "text/html": [
       "<pre>| 31      | 30.57s       | 2.99432                |</pre>"
      ],
      "text/plain": [
       "| 31      | 30.57s       | 2.99432                |"
      ]
     },
     "metadata": {},
     "output_type": "display_data"
    },
    {
     "data": {
      "text/html": [
       "<pre>| 32      | 31.38s       | 2.99384                |</pre>"
      ],
      "text/plain": [
       "| 32      | 31.38s       | 2.99384                |"
      ]
     },
     "metadata": {},
     "output_type": "display_data"
    },
    {
     "data": {
      "text/html": [
       "<pre>| 33      | 32.21s       | 2.99338                |</pre>"
      ],
      "text/plain": [
       "| 33      | 32.21s       | 2.99338                |"
      ]
     },
     "metadata": {},
     "output_type": "display_data"
    },
    {
     "data": {
      "text/html": [
       "<pre>| 34      | 33.32s       | 2.99295                |</pre>"
      ],
      "text/plain": [
       "| 34      | 33.32s       | 2.99295                |"
      ]
     },
     "metadata": {},
     "output_type": "display_data"
    },
    {
     "data": {
      "text/html": [
       "<pre>| 35      | 34.19s       | 2.99253                |</pre>"
      ],
      "text/plain": [
       "| 35      | 34.19s       | 2.99253                |"
      ]
     },
     "metadata": {},
     "output_type": "display_data"
    },
    {
     "data": {
      "text/html": [
       "<pre>| 36      | 35.18s       | 2.99213                |</pre>"
      ],
      "text/plain": [
       "| 36      | 35.18s       | 2.99213                |"
      ]
     },
     "metadata": {},
     "output_type": "display_data"
    },
    {
     "data": {
      "text/html": [
       "<pre>| 37      | 36.39s       | 2.99175                |</pre>"
      ],
      "text/plain": [
       "| 37      | 36.39s       | 2.99175                |"
      ]
     },
     "metadata": {},
     "output_type": "display_data"
    },
    {
     "data": {
      "text/html": [
       "<pre>| 38      | 37.56s       | 2.99137                |</pre>"
      ],
      "text/plain": [
       "| 38      | 37.56s       | 2.99137                |"
      ]
     },
     "metadata": {},
     "output_type": "display_data"
    },
    {
     "data": {
      "text/html": [
       "<pre>| 39      | 38.43s       | 2.99101                |</pre>"
      ],
      "text/plain": [
       "| 39      | 38.43s       | 2.99101                |"
      ]
     },
     "metadata": {},
     "output_type": "display_data"
    },
    {
     "data": {
      "text/html": [
       "<pre>| 40      | 39.23s       | 2.99066                |</pre>"
      ],
      "text/plain": [
       "| 40      | 39.23s       | 2.99066                |"
      ]
     },
     "metadata": {},
     "output_type": "display_data"
    },
    {
     "data": {
      "text/html": [
       "<pre>| 41      | 40.03s       | 2.99032                |</pre>"
      ],
      "text/plain": [
       "| 41      | 40.03s       | 2.99032                |"
      ]
     },
     "metadata": {},
     "output_type": "display_data"
    },
    {
     "data": {
      "text/html": [
       "<pre>| 42      | 40.83s       | 2.98999                |</pre>"
      ],
      "text/plain": [
       "| 42      | 40.83s       | 2.98999                |"
      ]
     },
     "metadata": {},
     "output_type": "display_data"
    },
    {
     "data": {
      "text/html": [
       "<pre>| 43      | 41.67s       | 2.98966                |</pre>"
      ],
      "text/plain": [
       "| 43      | 41.67s       | 2.98966                |"
      ]
     },
     "metadata": {},
     "output_type": "display_data"
    },
    {
     "data": {
      "text/html": [
       "<pre>| 44      | 42.46s       | 2.98934                |</pre>"
      ],
      "text/plain": [
       "| 44      | 42.46s       | 2.98934                |"
      ]
     },
     "metadata": {},
     "output_type": "display_data"
    },
    {
     "data": {
      "text/html": [
       "<pre>| 45      | 43.24s       | 2.98902                |</pre>"
      ],
      "text/plain": [
       "| 45      | 43.24s       | 2.98902                |"
      ]
     },
     "metadata": {},
     "output_type": "display_data"
    },
    {
     "data": {
      "text/html": [
       "<pre>| 46      | 44.35s       | 2.98871                |</pre>"
      ],
      "text/plain": [
       "| 46      | 44.35s       | 2.98871                |"
      ]
     },
     "metadata": {},
     "output_type": "display_data"
    },
    {
     "data": {
      "text/html": [
       "<pre>| 47      | 45.50s       | 2.9884                 |</pre>"
      ],
      "text/plain": [
       "| 47      | 45.50s       | 2.9884                 |"
      ]
     },
     "metadata": {},
     "output_type": "display_data"
    },
    {
     "data": {
      "text/html": [
       "<pre>| 48      | 46.38s       | 2.98809                |</pre>"
      ],
      "text/plain": [
       "| 48      | 46.38s       | 2.98809                |"
      ]
     },
     "metadata": {},
     "output_type": "display_data"
    },
    {
     "data": {
      "text/html": [
       "<pre>| 49      | 47.27s       | 2.98779                |</pre>"
      ],
      "text/plain": [
       "| 49      | 47.27s       | 2.98779                |"
      ]
     },
     "metadata": {},
     "output_type": "display_data"
    },
    {
     "data": {
      "text/html": [
       "<pre>| FINAL   | 47.27s       | 2.98779                |</pre>"
      ],
      "text/plain": [
       "| FINAL   | 47.27s       | 2.98779                |"
      ]
     },
     "metadata": {},
     "output_type": "display_data"
    },
    {
     "data": {
      "text/html": [
       "<pre>+---------+--------------+------------------------+</pre>"
      ],
      "text/plain": [
       "+---------+--------------+------------------------+"
      ]
     },
     "metadata": {},
     "output_type": "display_data"
    },
    {
     "data": {
      "text/html": [
       "<pre>Optimization Complete: Iteration limit reached.</pre>"
      ],
      "text/plain": [
       "Optimization Complete: Iteration limit reached."
      ]
     },
     "metadata": {},
     "output_type": "display_data"
    },
    {
     "data": {
      "text/html": [
       "<pre>Recsys training: model = factorization_recommender</pre>"
      ],
      "text/plain": [
       "Recsys training: model = factorization_recommender"
      ]
     },
     "metadata": {},
     "output_type": "display_data"
    },
    {
     "data": {
      "text/html": [
       "<pre>Preparing data set.</pre>"
      ],
      "text/plain": [
       "Preparing data set."
      ]
     },
     "metadata": {},
     "output_type": "display_data"
    },
    {
     "data": {
      "text/html": [
       "<pre>    Data has 1218325 observations with 50692 users and 141 items.</pre>"
      ],
      "text/plain": [
       "    Data has 1218325 observations with 50692 users and 141 items."
      ]
     },
     "metadata": {},
     "output_type": "display_data"
    },
    {
     "data": {
      "text/html": [
       "<pre>    Data prepared in: 1.61869s</pre>"
      ],
      "text/plain": [
       "    Data prepared in: 1.61869s"
      ]
     },
     "metadata": {},
     "output_type": "display_data"
    },
    {
     "data": {
      "text/html": [
       "<pre>Training factorization_recommender for recommendations.</pre>"
      ],
      "text/plain": [
       "Training factorization_recommender for recommendations."
      ]
     },
     "metadata": {},
     "output_type": "display_data"
    },
    {
     "data": {
      "text/html": [
       "<pre>+------------------------------+--------------------------------------------------+----------+</pre>"
      ],
      "text/plain": [
       "+------------------------------+--------------------------------------------------+----------+"
      ]
     },
     "metadata": {},
     "output_type": "display_data"
    },
    {
     "data": {
      "text/html": [
       "<pre>| Parameter                    | Description                                      | Value    |</pre>"
      ],
      "text/plain": [
       "| Parameter                    | Description                                      | Value    |"
      ]
     },
     "metadata": {},
     "output_type": "display_data"
    },
    {
     "data": {
      "text/html": [
       "<pre>+------------------------------+--------------------------------------------------+----------+</pre>"
      ],
      "text/plain": [
       "+------------------------------+--------------------------------------------------+----------+"
      ]
     },
     "metadata": {},
     "output_type": "display_data"
    },
    {
     "data": {
      "text/html": [
       "<pre>| num_factors                  | Factor Dimension                                 | 8        |</pre>"
      ],
      "text/plain": [
       "| num_factors                  | Factor Dimension                                 | 8        |"
      ]
     },
     "metadata": {},
     "output_type": "display_data"
    },
    {
     "data": {
      "text/html": [
       "<pre>| regularization               | L2 Regularization on Factors                     | 1e-16    |</pre>"
      ],
      "text/plain": [
       "| regularization               | L2 Regularization on Factors                     | 1e-16    |"
      ]
     },
     "metadata": {},
     "output_type": "display_data"
    },
    {
     "data": {
      "text/html": [
       "<pre>| max_iterations               | Maximum Number of Iterations                     | 50       |</pre>"
      ],
      "text/plain": [
       "| max_iterations               | Maximum Number of Iterations                     | 50       |"
      ]
     },
     "metadata": {},
     "output_type": "display_data"
    },
    {
     "data": {
      "text/html": [
       "<pre>| solver                       | Solver used for training                         | als      |</pre>"
      ],
      "text/plain": [
       "| solver                       | Solver used for training                         | als      |"
      ]
     },
     "metadata": {},
     "output_type": "display_data"
    },
    {
     "data": {
      "text/html": [
       "<pre>+------------------------------+--------------------------------------------------+----------+</pre>"
      ],
      "text/plain": [
       "+------------------------------+--------------------------------------------------+----------+"
      ]
     },
     "metadata": {},
     "output_type": "display_data"
    },
    {
     "data": {
      "text/html": [
       "<pre>+---------+--------------+------------------------+</pre>"
      ],
      "text/plain": [
       "+---------+--------------+------------------------+"
      ]
     },
     "metadata": {},
     "output_type": "display_data"
    },
    {
     "data": {
      "text/html": [
       "<pre>| Iter.   | Elapsed time | RMSE                   |</pre>"
      ],
      "text/plain": [
       "| Iter.   | Elapsed time | RMSE                   |"
      ]
     },
     "metadata": {},
     "output_type": "display_data"
    },
    {
     "data": {
      "text/html": [
       "<pre>+---------+--------------+------------------------+</pre>"
      ],
      "text/plain": [
       "+---------+--------------+------------------------+"
      ]
     },
     "metadata": {},
     "output_type": "display_data"
    },
    {
     "data": {
      "text/html": [
       "<pre>| Initial | 103us        | NA                     |</pre>"
      ],
      "text/plain": [
       "| Initial | 103us        | NA                     |"
      ]
     },
     "metadata": {},
     "output_type": "display_data"
    },
    {
     "data": {
      "text/html": [
       "<pre>+---------+--------------+------------------------+</pre>"
      ],
      "text/plain": [
       "+---------+--------------+------------------------+"
      ]
     },
     "metadata": {},
     "output_type": "display_data"
    },
    {
     "data": {
      "text/html": [
       "<pre>| 0       | 856.279ms    | 4.04524                |</pre>"
      ],
      "text/plain": [
       "| 0       | 856.279ms    | 4.04524                |"
      ]
     },
     "metadata": {},
     "output_type": "display_data"
    },
    {
     "data": {
      "text/html": [
       "<pre>| 1       | 1.69s        | 3.27972                |</pre>"
      ],
      "text/plain": [
       "| 1       | 1.69s        | 3.27972                |"
      ]
     },
     "metadata": {},
     "output_type": "display_data"
    },
    {
     "data": {
      "text/html": [
       "<pre>| 2       | 2.51s        | 3.16461                |</pre>"
      ],
      "text/plain": [
       "| 2       | 2.51s        | 3.16461                |"
      ]
     },
     "metadata": {},
     "output_type": "display_data"
    },
    {
     "data": {
      "text/html": [
       "<pre>| 3       | 3.40s        | 3.11051                |</pre>"
      ],
      "text/plain": [
       "| 3       | 3.40s        | 3.11051                |"
      ]
     },
     "metadata": {},
     "output_type": "display_data"
    },
    {
     "data": {
      "text/html": [
       "<pre>| 4       | 4.26s        | 3.07695                |</pre>"
      ],
      "text/plain": [
       "| 4       | 4.26s        | 3.07695                |"
      ]
     },
     "metadata": {},
     "output_type": "display_data"
    },
    {
     "data": {
      "text/html": [
       "<pre>| 5       | 5.48s        | 3.05637                |</pre>"
      ],
      "text/plain": [
       "| 5       | 5.48s        | 3.05637                |"
      ]
     },
     "metadata": {},
     "output_type": "display_data"
    },
    {
     "data": {
      "text/html": [
       "<pre>| 6       | 6.51s        | 3.0435                 |</pre>"
      ],
      "text/plain": [
       "| 6       | 6.51s        | 3.0435                 |"
      ]
     },
     "metadata": {},
     "output_type": "display_data"
    },
    {
     "data": {
      "text/html": [
       "<pre>| 7       | 7.44s        | 3.03495                |</pre>"
      ],
      "text/plain": [
       "| 7       | 7.44s        | 3.03495                |"
      ]
     },
     "metadata": {},
     "output_type": "display_data"
    },
    {
     "data": {
      "text/html": [
       "<pre>| 8       | 8.39s        | 3.02886                |</pre>"
      ],
      "text/plain": [
       "| 8       | 8.39s        | 3.02886                |"
      ]
     },
     "metadata": {},
     "output_type": "display_data"
    },
    {
     "data": {
      "text/html": [
       "<pre>| 9       | 9.32s        | 3.02426                |</pre>"
      ],
      "text/plain": [
       "| 9       | 9.32s        | 3.02426                |"
      ]
     },
     "metadata": {},
     "output_type": "display_data"
    },
    {
     "data": {
      "text/html": [
       "<pre>| 10      | 10.22s       | 3.0206                 |</pre>"
      ],
      "text/plain": [
       "| 10      | 10.22s       | 3.0206                 |"
      ]
     },
     "metadata": {},
     "output_type": "display_data"
    },
    {
     "data": {
      "text/html": [
       "<pre>| 11      | 11.32s       | 3.01756                |</pre>"
      ],
      "text/plain": [
       "| 11      | 11.32s       | 3.01756                |"
      ]
     },
     "metadata": {},
     "output_type": "display_data"
    },
    {
     "data": {
      "text/html": [
       "<pre>| 12      | 12.35s       | 3.01496                |</pre>"
      ],
      "text/plain": [
       "| 12      | 12.35s       | 3.01496                |"
      ]
     },
     "metadata": {},
     "output_type": "display_data"
    },
    {
     "data": {
      "text/html": [
       "<pre>| 13      | 13.38s       | 3.01267                |</pre>"
      ],
      "text/plain": [
       "| 13      | 13.38s       | 3.01267                |"
      ]
     },
     "metadata": {},
     "output_type": "display_data"
    },
    {
     "data": {
      "text/html": [
       "<pre>| 14      | 14.35s       | 3.01062                |</pre>"
      ],
      "text/plain": [
       "| 14      | 14.35s       | 3.01062                |"
      ]
     },
     "metadata": {},
     "output_type": "display_data"
    },
    {
     "data": {
      "text/html": [
       "<pre>| 15      | 15.38s       | 3.00878                |</pre>"
      ],
      "text/plain": [
       "| 15      | 15.38s       | 3.00878                |"
      ]
     },
     "metadata": {},
     "output_type": "display_data"
    },
    {
     "data": {
      "text/html": [
       "<pre>| 16      | 16.31s       | 3.00713                |</pre>"
      ],
      "text/plain": [
       "| 16      | 16.31s       | 3.00713                |"
      ]
     },
     "metadata": {},
     "output_type": "display_data"
    },
    {
     "data": {
      "text/html": [
       "<pre>| 17      | 17.21s       | 3.00566                |</pre>"
      ],
      "text/plain": [
       "| 17      | 17.21s       | 3.00566                |"
      ]
     },
     "metadata": {},
     "output_type": "display_data"
    },
    {
     "data": {
      "text/html": [
       "<pre>| 18      | 18.19s       | 3.00433                |</pre>"
      ],
      "text/plain": [
       "| 18      | 18.19s       | 3.00433                |"
      ]
     },
     "metadata": {},
     "output_type": "display_data"
    },
    {
     "data": {
      "text/html": [
       "<pre>| 19      | 19.18s       | 3.00314                |</pre>"
      ],
      "text/plain": [
       "| 19      | 19.18s       | 3.00314                |"
      ]
     },
     "metadata": {},
     "output_type": "display_data"
    },
    {
     "data": {
      "text/html": [
       "<pre>| 20      | 20.23s       | 3.00207                |</pre>"
      ],
      "text/plain": [
       "| 20      | 20.23s       | 3.00207                |"
      ]
     },
     "metadata": {},
     "output_type": "display_data"
    },
    {
     "data": {
      "text/html": [
       "<pre>| 21      | 21.23s       | 3.00108                |</pre>"
      ],
      "text/plain": [
       "| 21      | 21.23s       | 3.00108                |"
      ]
     },
     "metadata": {},
     "output_type": "display_data"
    },
    {
     "data": {
      "text/html": [
       "<pre>| 22      | 22.08s       | 3.00017                |</pre>"
      ],
      "text/plain": [
       "| 22      | 22.08s       | 3.00017                |"
      ]
     },
     "metadata": {},
     "output_type": "display_data"
    },
    {
     "data": {
      "text/html": [
       "<pre>| 23      | 22.92s       | 2.99934                |</pre>"
      ],
      "text/plain": [
       "| 23      | 22.92s       | 2.99934                |"
      ]
     },
     "metadata": {},
     "output_type": "display_data"
    },
    {
     "data": {
      "text/html": [
       "<pre>| 24      | 23.86s       | 2.99856                |</pre>"
      ],
      "text/plain": [
       "| 24      | 23.86s       | 2.99856                |"
      ]
     },
     "metadata": {},
     "output_type": "display_data"
    },
    {
     "data": {
      "text/html": [
       "<pre>| 25      | 24.79s       | 2.99783                |</pre>"
      ],
      "text/plain": [
       "| 25      | 24.79s       | 2.99783                |"
      ]
     },
     "metadata": {},
     "output_type": "display_data"
    },
    {
     "data": {
      "text/html": [
       "<pre>| 26      | 25.73s       | 2.99716                |</pre>"
      ],
      "text/plain": [
       "| 26      | 25.73s       | 2.99716                |"
      ]
     },
     "metadata": {},
     "output_type": "display_data"
    },
    {
     "data": {
      "text/html": [
       "<pre>| 27      | 26.58s       | 2.99652                |</pre>"
      ],
      "text/plain": [
       "| 27      | 26.58s       | 2.99652                |"
      ]
     },
     "metadata": {},
     "output_type": "display_data"
    },
    {
     "data": {
      "text/html": [
       "<pre>| 28      | 27.55s       | 2.99592                |</pre>"
      ],
      "text/plain": [
       "| 28      | 27.55s       | 2.99592                |"
      ]
     },
     "metadata": {},
     "output_type": "display_data"
    },
    {
     "data": {
      "text/html": [
       "<pre>| 29      | 28.54s       | 2.99536                |</pre>"
      ],
      "text/plain": [
       "| 29      | 28.54s       | 2.99536                |"
      ]
     },
     "metadata": {},
     "output_type": "display_data"
    },
    {
     "data": {
      "text/html": [
       "<pre>| 30      | 29.38s       | 2.99483                |</pre>"
      ],
      "text/plain": [
       "| 30      | 29.38s       | 2.99483                |"
      ]
     },
     "metadata": {},
     "output_type": "display_data"
    },
    {
     "data": {
      "text/html": [
       "<pre>| 31      | 30.20s       | 2.99432                |</pre>"
      ],
      "text/plain": [
       "| 31      | 30.20s       | 2.99432                |"
      ]
     },
     "metadata": {},
     "output_type": "display_data"
    },
    {
     "data": {
      "text/html": [
       "<pre>| 32      | 31.04s       | 2.99385                |</pre>"
      ],
      "text/plain": [
       "| 32      | 31.04s       | 2.99385                |"
      ]
     },
     "metadata": {},
     "output_type": "display_data"
    },
    {
     "data": {
      "text/html": [
       "<pre>| 33      | 31.91s       | 2.99339                |</pre>"
      ],
      "text/plain": [
       "| 33      | 31.91s       | 2.99339                |"
      ]
     },
     "metadata": {},
     "output_type": "display_data"
    },
    {
     "data": {
      "text/html": [
       "<pre>| 34      | 32.77s       | 2.99295                |</pre>"
      ],
      "text/plain": [
       "| 34      | 32.77s       | 2.99295                |"
      ]
     },
     "metadata": {},
     "output_type": "display_data"
    },
    {
     "data": {
      "text/html": [
       "<pre>| 35      | 33.68s       | 2.99254                |</pre>"
      ],
      "text/plain": [
       "| 35      | 33.68s       | 2.99254                |"
      ]
     },
     "metadata": {},
     "output_type": "display_data"
    },
    {
     "data": {
      "text/html": [
       "<pre>| 36      | 34.53s       | 2.99214                |</pre>"
      ],
      "text/plain": [
       "| 36      | 34.53s       | 2.99214                |"
      ]
     },
     "metadata": {},
     "output_type": "display_data"
    },
    {
     "data": {
      "text/html": [
       "<pre>| 37      | 35.41s       | 2.99176                |</pre>"
      ],
      "text/plain": [
       "| 37      | 35.41s       | 2.99176                |"
      ]
     },
     "metadata": {},
     "output_type": "display_data"
    },
    {
     "data": {
      "text/html": [
       "<pre>| 38      | 36.27s       | 2.99139                |</pre>"
      ],
      "text/plain": [
       "| 38      | 36.27s       | 2.99139                |"
      ]
     },
     "metadata": {},
     "output_type": "display_data"
    },
    {
     "data": {
      "text/html": [
       "<pre>| 39      | 37.11s       | 2.99103                |</pre>"
      ],
      "text/plain": [
       "| 39      | 37.11s       | 2.99103                |"
      ]
     },
     "metadata": {},
     "output_type": "display_data"
    },
    {
     "data": {
      "text/html": [
       "<pre>| 40      | 37.91s       | 2.99068                |</pre>"
      ],
      "text/plain": [
       "| 40      | 37.91s       | 2.99068                |"
      ]
     },
     "metadata": {},
     "output_type": "display_data"
    },
    {
     "data": {
      "text/html": [
       "<pre>| 41      | 38.71s       | 2.99034                |</pre>"
      ],
      "text/plain": [
       "| 41      | 38.71s       | 2.99034                |"
      ]
     },
     "metadata": {},
     "output_type": "display_data"
    },
    {
     "data": {
      "text/html": [
       "<pre>| 42      | 39.54s       | 2.99001                |</pre>"
      ],
      "text/plain": [
       "| 42      | 39.54s       | 2.99001                |"
      ]
     },
     "metadata": {},
     "output_type": "display_data"
    },
    {
     "data": {
      "text/html": [
       "<pre>| 43      | 40.35s       | 2.98968                |</pre>"
      ],
      "text/plain": [
       "| 43      | 40.35s       | 2.98968                |"
      ]
     },
     "metadata": {},
     "output_type": "display_data"
    },
    {
     "data": {
      "text/html": [
       "<pre>| 44      | 41.17s       | 2.98936                |</pre>"
      ],
      "text/plain": [
       "| 44      | 41.17s       | 2.98936                |"
      ]
     },
     "metadata": {},
     "output_type": "display_data"
    },
    {
     "data": {
      "text/html": [
       "<pre>| 45      | 41.99s       | 2.98905                |</pre>"
      ],
      "text/plain": [
       "| 45      | 41.99s       | 2.98905                |"
      ]
     },
     "metadata": {},
     "output_type": "display_data"
    },
    {
     "data": {
      "text/html": [
       "<pre>| 46      | 42.80s       | 2.98874                |</pre>"
      ],
      "text/plain": [
       "| 46      | 42.80s       | 2.98874                |"
      ]
     },
     "metadata": {},
     "output_type": "display_data"
    },
    {
     "data": {
      "text/html": [
       "<pre>| 47      | 43.75s       | 2.98843                |</pre>"
      ],
      "text/plain": [
       "| 47      | 43.75s       | 2.98843                |"
      ]
     },
     "metadata": {},
     "output_type": "display_data"
    },
    {
     "data": {
      "text/html": [
       "<pre>| 48      | 44.56s       | 2.98812                |</pre>"
      ],
      "text/plain": [
       "| 48      | 44.56s       | 2.98812                |"
      ]
     },
     "metadata": {},
     "output_type": "display_data"
    },
    {
     "data": {
      "text/html": [
       "<pre>| 49      | 45.41s       | 2.98781                |</pre>"
      ],
      "text/plain": [
       "| 49      | 45.41s       | 2.98781                |"
      ]
     },
     "metadata": {},
     "output_type": "display_data"
    },
    {
     "data": {
      "text/html": [
       "<pre>| FINAL   | 45.41s       | 2.98781                |</pre>"
      ],
      "text/plain": [
       "| FINAL   | 45.41s       | 2.98781                |"
      ]
     },
     "metadata": {},
     "output_type": "display_data"
    },
    {
     "data": {
      "text/html": [
       "<pre>+---------+--------------+------------------------+</pre>"
      ],
      "text/plain": [
       "+---------+--------------+------------------------+"
      ]
     },
     "metadata": {},
     "output_type": "display_data"
    },
    {
     "data": {
      "text/html": [
       "<pre>Optimization Complete: Iteration limit reached.</pre>"
      ],
      "text/plain": [
       "Optimization Complete: Iteration limit reached."
      ]
     },
     "metadata": {},
     "output_type": "display_data"
    },
    {
     "data": {
      "text/html": [
       "<pre>Recsys training: model = factorization_recommender</pre>"
      ],
      "text/plain": [
       "Recsys training: model = factorization_recommender"
      ]
     },
     "metadata": {},
     "output_type": "display_data"
    },
    {
     "data": {
      "text/html": [
       "<pre>Preparing data set.</pre>"
      ],
      "text/plain": [
       "Preparing data set."
      ]
     },
     "metadata": {},
     "output_type": "display_data"
    },
    {
     "data": {
      "text/html": [
       "<pre>    Data has 1218325 observations with 50692 users and 141 items.</pre>"
      ],
      "text/plain": [
       "    Data has 1218325 observations with 50692 users and 141 items."
      ]
     },
     "metadata": {},
     "output_type": "display_data"
    },
    {
     "data": {
      "text/html": [
       "<pre>    Data prepared in: 1.50444s</pre>"
      ],
      "text/plain": [
       "    Data prepared in: 1.50444s"
      ]
     },
     "metadata": {},
     "output_type": "display_data"
    },
    {
     "data": {
      "text/html": [
       "<pre>Training factorization_recommender for recommendations.</pre>"
      ],
      "text/plain": [
       "Training factorization_recommender for recommendations."
      ]
     },
     "metadata": {},
     "output_type": "display_data"
    },
    {
     "data": {
      "text/html": [
       "<pre>+------------------------------+--------------------------------------------------+----------+</pre>"
      ],
      "text/plain": [
       "+------------------------------+--------------------------------------------------+----------+"
      ]
     },
     "metadata": {},
     "output_type": "display_data"
    },
    {
     "data": {
      "text/html": [
       "<pre>| Parameter                    | Description                                      | Value    |</pre>"
      ],
      "text/plain": [
       "| Parameter                    | Description                                      | Value    |"
      ]
     },
     "metadata": {},
     "output_type": "display_data"
    },
    {
     "data": {
      "text/html": [
       "<pre>+------------------------------+--------------------------------------------------+----------+</pre>"
      ],
      "text/plain": [
       "+------------------------------+--------------------------------------------------+----------+"
      ]
     },
     "metadata": {},
     "output_type": "display_data"
    },
    {
     "data": {
      "text/html": [
       "<pre>| num_factors                  | Factor Dimension                                 | 8        |</pre>"
      ],
      "text/plain": [
       "| num_factors                  | Factor Dimension                                 | 8        |"
      ]
     },
     "metadata": {},
     "output_type": "display_data"
    },
    {
     "data": {
      "text/html": [
       "<pre>| regularization               | L2 Regularization on Factors                     | 1e-14    |</pre>"
      ],
      "text/plain": [
       "| regularization               | L2 Regularization on Factors                     | 1e-14    |"
      ]
     },
     "metadata": {},
     "output_type": "display_data"
    },
    {
     "data": {
      "text/html": [
       "<pre>| max_iterations               | Maximum Number of Iterations                     | 50       |</pre>"
      ],
      "text/plain": [
       "| max_iterations               | Maximum Number of Iterations                     | 50       |"
      ]
     },
     "metadata": {},
     "output_type": "display_data"
    },
    {
     "data": {
      "text/html": [
       "<pre>| solver                       | Solver used for training                         | als      |</pre>"
      ],
      "text/plain": [
       "| solver                       | Solver used for training                         | als      |"
      ]
     },
     "metadata": {},
     "output_type": "display_data"
    },
    {
     "data": {
      "text/html": [
       "<pre>+------------------------------+--------------------------------------------------+----------+</pre>"
      ],
      "text/plain": [
       "+------------------------------+--------------------------------------------------+----------+"
      ]
     },
     "metadata": {},
     "output_type": "display_data"
    },
    {
     "data": {
      "text/html": [
       "<pre>+---------+--------------+------------------------+</pre>"
      ],
      "text/plain": [
       "+---------+--------------+------------------------+"
      ]
     },
     "metadata": {},
     "output_type": "display_data"
    },
    {
     "data": {
      "text/html": [
       "<pre>| Iter.   | Elapsed time | RMSE                   |</pre>"
      ],
      "text/plain": [
       "| Iter.   | Elapsed time | RMSE                   |"
      ]
     },
     "metadata": {},
     "output_type": "display_data"
    },
    {
     "data": {
      "text/html": [
       "<pre>+---------+--------------+------------------------+</pre>"
      ],
      "text/plain": [
       "+---------+--------------+------------------------+"
      ]
     },
     "metadata": {},
     "output_type": "display_data"
    },
    {
     "data": {
      "text/html": [
       "<pre>| Initial | 85us         | NA                     |</pre>"
      ],
      "text/plain": [
       "| Initial | 85us         | NA                     |"
      ]
     },
     "metadata": {},
     "output_type": "display_data"
    },
    {
     "data": {
      "text/html": [
       "<pre>+---------+--------------+------------------------+</pre>"
      ],
      "text/plain": [
       "+---------+--------------+------------------------+"
      ]
     },
     "metadata": {},
     "output_type": "display_data"
    },
    {
     "data": {
      "text/html": [
       "<pre>| 0       | 858.061ms    | 4.04515                |</pre>"
      ],
      "text/plain": [
       "| 0       | 858.061ms    | 4.04515                |"
      ]
     },
     "metadata": {},
     "output_type": "display_data"
    },
    {
     "data": {
      "text/html": [
       "<pre>| 1       | 1.68s        | 3.27963                |</pre>"
      ],
      "text/plain": [
       "| 1       | 1.68s        | 3.27963                |"
      ]
     },
     "metadata": {},
     "output_type": "display_data"
    },
    {
     "data": {
      "text/html": [
       "<pre>| 2       | 2.48s        | 3.16455                |</pre>"
      ],
      "text/plain": [
       "| 2       | 2.48s        | 3.16455                |"
      ]
     },
     "metadata": {},
     "output_type": "display_data"
    },
    {
     "data": {
      "text/html": [
       "<pre>| 3       | 3.34s        | 3.11044                |</pre>"
      ],
      "text/plain": [
       "| 3       | 3.34s        | 3.11044                |"
      ]
     },
     "metadata": {},
     "output_type": "display_data"
    },
    {
     "data": {
      "text/html": [
       "<pre>| 4       | 4.15s        | 3.07688                |</pre>"
      ],
      "text/plain": [
       "| 4       | 4.15s        | 3.07688                |"
      ]
     },
     "metadata": {},
     "output_type": "display_data"
    },
    {
     "data": {
      "text/html": [
       "<pre>| 5       | 4.98s        | 3.05631                |</pre>"
      ],
      "text/plain": [
       "| 5       | 4.98s        | 3.05631                |"
      ]
     },
     "metadata": {},
     "output_type": "display_data"
    },
    {
     "data": {
      "text/html": [
       "<pre>| 6       | 5.81s        | 3.04346                |</pre>"
      ],
      "text/plain": [
       "| 6       | 5.81s        | 3.04346                |"
      ]
     },
     "metadata": {},
     "output_type": "display_data"
    },
    {
     "data": {
      "text/html": [
       "<pre>| 7       | 6.92s        | 3.03492                |</pre>"
      ],
      "text/plain": [
       "| 7       | 6.92s        | 3.03492                |"
      ]
     },
     "metadata": {},
     "output_type": "display_data"
    },
    {
     "data": {
      "text/html": [
       "<pre>| 8       | 7.89s        | 3.02884                |</pre>"
      ],
      "text/plain": [
       "| 8       | 7.89s        | 3.02884                |"
      ]
     },
     "metadata": {},
     "output_type": "display_data"
    },
    {
     "data": {
      "text/html": [
       "<pre>| 9       | 9.03s        | 3.02424                |</pre>"
      ],
      "text/plain": [
       "| 9       | 9.03s        | 3.02424                |"
      ]
     },
     "metadata": {},
     "output_type": "display_data"
    },
    {
     "data": {
      "text/html": [
       "<pre>| 10      | 10.05s       | 3.02058                |</pre>"
      ],
      "text/plain": [
       "| 10      | 10.05s       | 3.02058                |"
      ]
     },
     "metadata": {},
     "output_type": "display_data"
    },
    {
     "data": {
      "text/html": [
       "<pre>| 11      | 10.87s       | 3.01754                |</pre>"
      ],
      "text/plain": [
       "| 11      | 10.87s       | 3.01754                |"
      ]
     },
     "metadata": {},
     "output_type": "display_data"
    },
    {
     "data": {
      "text/html": [
       "<pre>| 12      | 11.69s       | 3.01494                |</pre>"
      ],
      "text/plain": [
       "| 12      | 11.69s       | 3.01494                |"
      ]
     },
     "metadata": {},
     "output_type": "display_data"
    },
    {
     "data": {
      "text/html": [
       "<pre>| 13      | 12.56s       | 3.01265                |</pre>"
      ],
      "text/plain": [
       "| 13      | 12.56s       | 3.01265                |"
      ]
     },
     "metadata": {},
     "output_type": "display_data"
    },
    {
     "data": {
      "text/html": [
       "<pre>| 14      | 13.40s       | 3.01061                |</pre>"
      ],
      "text/plain": [
       "| 14      | 13.40s       | 3.01061                |"
      ]
     },
     "metadata": {},
     "output_type": "display_data"
    },
    {
     "data": {
      "text/html": [
       "<pre>| 15      | 14.34s       | 3.00877                |</pre>"
      ],
      "text/plain": [
       "| 15      | 14.34s       | 3.00877                |"
      ]
     },
     "metadata": {},
     "output_type": "display_data"
    },
    {
     "data": {
      "text/html": [
       "<pre>| 16      | 15.36s       | 3.00712                |</pre>"
      ],
      "text/plain": [
       "| 16      | 15.36s       | 3.00712                |"
      ]
     },
     "metadata": {},
     "output_type": "display_data"
    },
    {
     "data": {
      "text/html": [
       "<pre>| 17      | 16.35s       | 3.00565                |</pre>"
      ],
      "text/plain": [
       "| 17      | 16.35s       | 3.00565                |"
      ]
     },
     "metadata": {},
     "output_type": "display_data"
    },
    {
     "data": {
      "text/html": [
       "<pre>| 18      | 17.25s       | 3.00433                |</pre>"
      ],
      "text/plain": [
       "| 18      | 17.25s       | 3.00433                |"
      ]
     },
     "metadata": {},
     "output_type": "display_data"
    },
    {
     "data": {
      "text/html": [
       "<pre>| 19      | 18.19s       | 3.00314                |</pre>"
      ],
      "text/plain": [
       "| 19      | 18.19s       | 3.00314                |"
      ]
     },
     "metadata": {},
     "output_type": "display_data"
    },
    {
     "data": {
      "text/html": [
       "<pre>| 20      | 19.02s       | 3.00206                |</pre>"
      ],
      "text/plain": [
       "| 20      | 19.02s       | 3.00206                |"
      ]
     },
     "metadata": {},
     "output_type": "display_data"
    },
    {
     "data": {
      "text/html": [
       "<pre>| 21      | 19.88s       | 3.00107                |</pre>"
      ],
      "text/plain": [
       "| 21      | 19.88s       | 3.00107                |"
      ]
     },
     "metadata": {},
     "output_type": "display_data"
    },
    {
     "data": {
      "text/html": [
       "<pre>| 22      | 20.77s       | 3.00017                |</pre>"
      ],
      "text/plain": [
       "| 22      | 20.77s       | 3.00017                |"
      ]
     },
     "metadata": {},
     "output_type": "display_data"
    },
    {
     "data": {
      "text/html": [
       "<pre>| 23      | 21.62s       | 2.99933                |</pre>"
      ],
      "text/plain": [
       "| 23      | 21.62s       | 2.99933                |"
      ]
     },
     "metadata": {},
     "output_type": "display_data"
    },
    {
     "data": {
      "text/html": [
       "<pre>| 24      | 22.45s       | 2.99855                |</pre>"
      ],
      "text/plain": [
       "| 24      | 22.45s       | 2.99855                |"
      ]
     },
     "metadata": {},
     "output_type": "display_data"
    },
    {
     "data": {
      "text/html": [
       "<pre>| 25      | 23.39s       | 2.99783                |</pre>"
      ],
      "text/plain": [
       "| 25      | 23.39s       | 2.99783                |"
      ]
     },
     "metadata": {},
     "output_type": "display_data"
    },
    {
     "data": {
      "text/html": [
       "<pre>| 26      | 24.55s       | 2.99715                |</pre>"
      ],
      "text/plain": [
       "| 26      | 24.55s       | 2.99715                |"
      ]
     },
     "metadata": {},
     "output_type": "display_data"
    },
    {
     "data": {
      "text/html": [
       "<pre>| 27      | 25.60s       | 2.99652                |</pre>"
      ],
      "text/plain": [
       "| 27      | 25.60s       | 2.99652                |"
      ]
     },
     "metadata": {},
     "output_type": "display_data"
    },
    {
     "data": {
      "text/html": [
       "<pre>| 28      | 26.54s       | 2.99592                |</pre>"
      ],
      "text/plain": [
       "| 28      | 26.54s       | 2.99592                |"
      ]
     },
     "metadata": {},
     "output_type": "display_data"
    },
    {
     "data": {
      "text/html": [
       "<pre>| 29      | 27.34s       | 2.99535                |</pre>"
      ],
      "text/plain": [
       "| 29      | 27.34s       | 2.99535                |"
      ]
     },
     "metadata": {},
     "output_type": "display_data"
    },
    {
     "data": {
      "text/html": [
       "<pre>| 30      | 28.11s       | 2.99482                |</pre>"
      ],
      "text/plain": [
       "| 30      | 28.11s       | 2.99482                |"
      ]
     },
     "metadata": {},
     "output_type": "display_data"
    },
    {
     "data": {
      "text/html": [
       "<pre>| 31      | 28.89s       | 2.99432                |</pre>"
      ],
      "text/plain": [
       "| 31      | 28.89s       | 2.99432                |"
      ]
     },
     "metadata": {},
     "output_type": "display_data"
    },
    {
     "data": {
      "text/html": [
       "<pre>| 32      | 29.67s       | 2.99384                |</pre>"
      ],
      "text/plain": [
       "| 32      | 29.67s       | 2.99384                |"
      ]
     },
     "metadata": {},
     "output_type": "display_data"
    },
    {
     "data": {
      "text/html": [
       "<pre>| 33      | 30.47s       | 2.99338                |</pre>"
      ],
      "text/plain": [
       "| 33      | 30.47s       | 2.99338                |"
      ]
     },
     "metadata": {},
     "output_type": "display_data"
    },
    {
     "data": {
      "text/html": [
       "<pre>| 34      | 31.27s       | 2.99295                |</pre>"
      ],
      "text/plain": [
       "| 34      | 31.27s       | 2.99295                |"
      ]
     },
     "metadata": {},
     "output_type": "display_data"
    },
    {
     "data": {
      "text/html": [
       "<pre>| 35      | 32.06s       | 2.99253                |</pre>"
      ],
      "text/plain": [
       "| 35      | 32.06s       | 2.99253                |"
      ]
     },
     "metadata": {},
     "output_type": "display_data"
    },
    {
     "data": {
      "text/html": [
       "<pre>| 36      | 32.83s       | 2.99213                |</pre>"
      ],
      "text/plain": [
       "| 36      | 32.83s       | 2.99213                |"
      ]
     },
     "metadata": {},
     "output_type": "display_data"
    },
    {
     "data": {
      "text/html": [
       "<pre>| 37      | 33.62s       | 2.99175                |</pre>"
      ],
      "text/plain": [
       "| 37      | 33.62s       | 2.99175                |"
      ]
     },
     "metadata": {},
     "output_type": "display_data"
    },
    {
     "data": {
      "text/html": [
       "<pre>| 38      | 34.39s       | 2.99137                |</pre>"
      ],
      "text/plain": [
       "| 38      | 34.39s       | 2.99137                |"
      ]
     },
     "metadata": {},
     "output_type": "display_data"
    },
    {
     "data": {
      "text/html": [
       "<pre>| 39      | 35.18s       | 2.99101                |</pre>"
      ],
      "text/plain": [
       "| 39      | 35.18s       | 2.99101                |"
      ]
     },
     "metadata": {},
     "output_type": "display_data"
    },
    {
     "data": {
      "text/html": [
       "<pre>| 40      | 35.96s       | 2.99066                |</pre>"
      ],
      "text/plain": [
       "| 40      | 35.96s       | 2.99066                |"
      ]
     },
     "metadata": {},
     "output_type": "display_data"
    },
    {
     "data": {
      "text/html": [
       "<pre>| 41      | 36.76s       | 2.99032                |</pre>"
      ],
      "text/plain": [
       "| 41      | 36.76s       | 2.99032                |"
      ]
     },
     "metadata": {},
     "output_type": "display_data"
    },
    {
     "data": {
      "text/html": [
       "<pre>| 42      | 37.57s       | 2.98999                |</pre>"
      ],
      "text/plain": [
       "| 42      | 37.57s       | 2.98999                |"
      ]
     },
     "metadata": {},
     "output_type": "display_data"
    },
    {
     "data": {
      "text/html": [
       "<pre>| 43      | 38.37s       | 2.98966                |</pre>"
      ],
      "text/plain": [
       "| 43      | 38.37s       | 2.98966                |"
      ]
     },
     "metadata": {},
     "output_type": "display_data"
    },
    {
     "data": {
      "text/html": [
       "<pre>| 44      | 39.16s       | 2.98934                |</pre>"
      ],
      "text/plain": [
       "| 44      | 39.16s       | 2.98934                |"
      ]
     },
     "metadata": {},
     "output_type": "display_data"
    },
    {
     "data": {
      "text/html": [
       "<pre>| 45      | 39.92s       | 2.98902                |</pre>"
      ],
      "text/plain": [
       "| 45      | 39.92s       | 2.98902                |"
      ]
     },
     "metadata": {},
     "output_type": "display_data"
    },
    {
     "data": {
      "text/html": [
       "<pre>| 46      | 40.71s       | 2.98871                |</pre>"
      ],
      "text/plain": [
       "| 46      | 40.71s       | 2.98871                |"
      ]
     },
     "metadata": {},
     "output_type": "display_data"
    },
    {
     "data": {
      "text/html": [
       "<pre>| 47      | 41.49s       | 2.9884                 |</pre>"
      ],
      "text/plain": [
       "| 47      | 41.49s       | 2.9884                 |"
      ]
     },
     "metadata": {},
     "output_type": "display_data"
    },
    {
     "data": {
      "text/html": [
       "<pre>| 48      | 42.27s       | 2.98809                |</pre>"
      ],
      "text/plain": [
       "| 48      | 42.27s       | 2.98809                |"
      ]
     },
     "metadata": {},
     "output_type": "display_data"
    },
    {
     "data": {
      "text/html": [
       "<pre>| 49      | 43.06s       | 2.98779                |</pre>"
      ],
      "text/plain": [
       "| 49      | 43.06s       | 2.98779                |"
      ]
     },
     "metadata": {},
     "output_type": "display_data"
    },
    {
     "data": {
      "text/html": [
       "<pre>| FINAL   | 43.06s       | 2.98779                |</pre>"
      ],
      "text/plain": [
       "| FINAL   | 43.06s       | 2.98779                |"
      ]
     },
     "metadata": {},
     "output_type": "display_data"
    },
    {
     "data": {
      "text/html": [
       "<pre>+---------+--------------+------------------------+</pre>"
      ],
      "text/plain": [
       "+---------+--------------+------------------------+"
      ]
     },
     "metadata": {},
     "output_type": "display_data"
    },
    {
     "data": {
      "text/html": [
       "<pre>Optimization Complete: Iteration limit reached.</pre>"
      ],
      "text/plain": [
       "Optimization Complete: Iteration limit reached."
      ]
     },
     "metadata": {},
     "output_type": "display_data"
    },
    {
     "data": {
      "text/html": [
       "<pre>Recsys training: model = factorization_recommender</pre>"
      ],
      "text/plain": [
       "Recsys training: model = factorization_recommender"
      ]
     },
     "metadata": {},
     "output_type": "display_data"
    },
    {
     "data": {
      "text/html": [
       "<pre>Preparing data set.</pre>"
      ],
      "text/plain": [
       "Preparing data set."
      ]
     },
     "metadata": {},
     "output_type": "display_data"
    },
    {
     "data": {
      "text/html": [
       "<pre>    Data has 1218325 observations with 50692 users and 141 items.</pre>"
      ],
      "text/plain": [
       "    Data has 1218325 observations with 50692 users and 141 items."
      ]
     },
     "metadata": {},
     "output_type": "display_data"
    },
    {
     "data": {
      "text/html": [
       "<pre>    Data prepared in: 1.44482s</pre>"
      ],
      "text/plain": [
       "    Data prepared in: 1.44482s"
      ]
     },
     "metadata": {},
     "output_type": "display_data"
    },
    {
     "data": {
      "text/html": [
       "<pre>Training factorization_recommender for recommendations.</pre>"
      ],
      "text/plain": [
       "Training factorization_recommender for recommendations."
      ]
     },
     "metadata": {},
     "output_type": "display_data"
    },
    {
     "data": {
      "text/html": [
       "<pre>+------------------------------+--------------------------------------------------+----------+</pre>"
      ],
      "text/plain": [
       "+------------------------------+--------------------------------------------------+----------+"
      ]
     },
     "metadata": {},
     "output_type": "display_data"
    },
    {
     "data": {
      "text/html": [
       "<pre>| Parameter                    | Description                                      | Value    |</pre>"
      ],
      "text/plain": [
       "| Parameter                    | Description                                      | Value    |"
      ]
     },
     "metadata": {},
     "output_type": "display_data"
    },
    {
     "data": {
      "text/html": [
       "<pre>+------------------------------+--------------------------------------------------+----------+</pre>"
      ],
      "text/plain": [
       "+------------------------------+--------------------------------------------------+----------+"
      ]
     },
     "metadata": {},
     "output_type": "display_data"
    },
    {
     "data": {
      "text/html": [
       "<pre>| num_factors                  | Factor Dimension                                 | 8        |</pre>"
      ],
      "text/plain": [
       "| num_factors                  | Factor Dimension                                 | 8        |"
      ]
     },
     "metadata": {},
     "output_type": "display_data"
    },
    {
     "data": {
      "text/html": [
       "<pre>| regularization               | L2 Regularization on Factors                     | 1e-12    |</pre>"
      ],
      "text/plain": [
       "| regularization               | L2 Regularization on Factors                     | 1e-12    |"
      ]
     },
     "metadata": {},
     "output_type": "display_data"
    },
    {
     "data": {
      "text/html": [
       "<pre>| max_iterations               | Maximum Number of Iterations                     | 50       |</pre>"
      ],
      "text/plain": [
       "| max_iterations               | Maximum Number of Iterations                     | 50       |"
      ]
     },
     "metadata": {},
     "output_type": "display_data"
    },
    {
     "data": {
      "text/html": [
       "<pre>| solver                       | Solver used for training                         | als      |</pre>"
      ],
      "text/plain": [
       "| solver                       | Solver used for training                         | als      |"
      ]
     },
     "metadata": {},
     "output_type": "display_data"
    },
    {
     "data": {
      "text/html": [
       "<pre>+------------------------------+--------------------------------------------------+----------+</pre>"
      ],
      "text/plain": [
       "+------------------------------+--------------------------------------------------+----------+"
      ]
     },
     "metadata": {},
     "output_type": "display_data"
    },
    {
     "data": {
      "text/html": [
       "<pre>+---------+--------------+------------------------+</pre>"
      ],
      "text/plain": [
       "+---------+--------------+------------------------+"
      ]
     },
     "metadata": {},
     "output_type": "display_data"
    },
    {
     "data": {
      "text/html": [
       "<pre>| Iter.   | Elapsed time | RMSE                   |</pre>"
      ],
      "text/plain": [
       "| Iter.   | Elapsed time | RMSE                   |"
      ]
     },
     "metadata": {},
     "output_type": "display_data"
    },
    {
     "data": {
      "text/html": [
       "<pre>+---------+--------------+------------------------+</pre>"
      ],
      "text/plain": [
       "+---------+--------------+------------------------+"
      ]
     },
     "metadata": {},
     "output_type": "display_data"
    },
    {
     "data": {
      "text/html": [
       "<pre>| Initial | 88us         | NA                     |</pre>"
      ],
      "text/plain": [
       "| Initial | 88us         | NA                     |"
      ]
     },
     "metadata": {},
     "output_type": "display_data"
    },
    {
     "data": {
      "text/html": [
       "<pre>+---------+--------------+------------------------+</pre>"
      ],
      "text/plain": [
       "+---------+--------------+------------------------+"
      ]
     },
     "metadata": {},
     "output_type": "display_data"
    },
    {
     "data": {
      "text/html": [
       "<pre>| 0       | 825.456ms    | 4.04527                |</pre>"
      ],
      "text/plain": [
       "| 0       | 825.456ms    | 4.04527                |"
      ]
     },
     "metadata": {},
     "output_type": "display_data"
    },
    {
     "data": {
      "text/html": [
       "<pre>| 1       | 1.60s        | 3.27501                |</pre>"
      ],
      "text/plain": [
       "| 1       | 1.60s        | 3.27501                |"
      ]
     },
     "metadata": {},
     "output_type": "display_data"
    },
    {
     "data": {
      "text/html": [
       "<pre>| 2       | 2.39s        | 3.16252                |</pre>"
      ],
      "text/plain": [
       "| 2       | 2.39s        | 3.16252                |"
      ]
     },
     "metadata": {},
     "output_type": "display_data"
    },
    {
     "data": {
      "text/html": [
       "<pre>| 3       | 3.18s        | 3.10925                |</pre>"
      ],
      "text/plain": [
       "| 3       | 3.18s        | 3.10925                |"
      ]
     },
     "metadata": {},
     "output_type": "display_data"
    },
    {
     "data": {
      "text/html": [
       "<pre>| 4       | 3.97s        | 3.07646                |</pre>"
      ],
      "text/plain": [
       "| 4       | 3.97s        | 3.07646                |"
      ]
     },
     "metadata": {},
     "output_type": "display_data"
    },
    {
     "data": {
      "text/html": [
       "<pre>| 5       | 4.78s        | 3.05647                |</pre>"
      ],
      "text/plain": [
       "| 5       | 4.78s        | 3.05647                |"
      ]
     },
     "metadata": {},
     "output_type": "display_data"
    },
    {
     "data": {
      "text/html": [
       "<pre>| 6       | 5.55s        | 3.04395                |</pre>"
      ],
      "text/plain": [
       "| 6       | 5.55s        | 3.04395                |"
      ]
     },
     "metadata": {},
     "output_type": "display_data"
    },
    {
     "data": {
      "text/html": [
       "<pre>| 7       | 6.34s        | 3.03555                |</pre>"
      ],
      "text/plain": [
       "| 7       | 6.34s        | 3.03555                |"
      ]
     },
     "metadata": {},
     "output_type": "display_data"
    },
    {
     "data": {
      "text/html": [
       "<pre>| 8       | 7.14s        | 3.02951                |</pre>"
      ],
      "text/plain": [
       "| 8       | 7.14s        | 3.02951                |"
      ]
     },
     "metadata": {},
     "output_type": "display_data"
    },
    {
     "data": {
      "text/html": [
       "<pre>| 9       | 7.93s        | 3.02491                |</pre>"
      ],
      "text/plain": [
       "| 9       | 7.93s        | 3.02491                |"
      ]
     },
     "metadata": {},
     "output_type": "display_data"
    },
    {
     "data": {
      "text/html": [
       "<pre>| 10      | 8.71s        | 3.02121                |</pre>"
      ],
      "text/plain": [
       "| 10      | 8.71s        | 3.02121                |"
      ]
     },
     "metadata": {},
     "output_type": "display_data"
    },
    {
     "data": {
      "text/html": [
       "<pre>| 11      | 9.49s        | 3.01813                |</pre>"
      ],
      "text/plain": [
       "| 11      | 9.49s        | 3.01813                |"
      ]
     },
     "metadata": {},
     "output_type": "display_data"
    },
    {
     "data": {
      "text/html": [
       "<pre>| 12      | 10.27s       | 3.01548                |</pre>"
      ],
      "text/plain": [
       "| 12      | 10.27s       | 3.01548                |"
      ]
     },
     "metadata": {},
     "output_type": "display_data"
    },
    {
     "data": {
      "text/html": [
       "<pre>| 13      | 11.06s       | 3.01313                |</pre>"
      ],
      "text/plain": [
       "| 13      | 11.06s       | 3.01313                |"
      ]
     },
     "metadata": {},
     "output_type": "display_data"
    },
    {
     "data": {
      "text/html": [
       "<pre>| 14      | 11.85s       | 3.01104                |</pre>"
      ],
      "text/plain": [
       "| 14      | 11.85s       | 3.01104                |"
      ]
     },
     "metadata": {},
     "output_type": "display_data"
    },
    {
     "data": {
      "text/html": [
       "<pre>| 15      | 12.63s       | 3.00916                |</pre>"
      ],
      "text/plain": [
       "| 15      | 12.63s       | 3.00916                |"
      ]
     },
     "metadata": {},
     "output_type": "display_data"
    },
    {
     "data": {
      "text/html": [
       "<pre>| 16      | 13.42s       | 3.00747                |</pre>"
      ],
      "text/plain": [
       "| 16      | 13.42s       | 3.00747                |"
      ]
     },
     "metadata": {},
     "output_type": "display_data"
    },
    {
     "data": {
      "text/html": [
       "<pre>| 17      | 14.20s       | 3.00597                |</pre>"
      ],
      "text/plain": [
       "| 17      | 14.20s       | 3.00597                |"
      ]
     },
     "metadata": {},
     "output_type": "display_data"
    },
    {
     "data": {
      "text/html": [
       "<pre>| 18      | 14.99s       | 3.00462                |</pre>"
      ],
      "text/plain": [
       "| 18      | 14.99s       | 3.00462                |"
      ]
     },
     "metadata": {},
     "output_type": "display_data"
    },
    {
     "data": {
      "text/html": [
       "<pre>| 19      | 15.79s       | 3.00341                |</pre>"
      ],
      "text/plain": [
       "| 19      | 15.79s       | 3.00341                |"
      ]
     },
     "metadata": {},
     "output_type": "display_data"
    },
    {
     "data": {
      "text/html": [
       "<pre>| 20      | 16.58s       | 3.00231                |</pre>"
      ],
      "text/plain": [
       "| 20      | 16.58s       | 3.00231                |"
      ]
     },
     "metadata": {},
     "output_type": "display_data"
    },
    {
     "data": {
      "text/html": [
       "<pre>| 21      | 17.35s       | 3.00131                |</pre>"
      ],
      "text/plain": [
       "| 21      | 17.35s       | 3.00131                |"
      ]
     },
     "metadata": {},
     "output_type": "display_data"
    },
    {
     "data": {
      "text/html": [
       "<pre>| 22      | 18.16s       | 3.00039                |</pre>"
      ],
      "text/plain": [
       "| 22      | 18.16s       | 3.00039                |"
      ]
     },
     "metadata": {},
     "output_type": "display_data"
    },
    {
     "data": {
      "text/html": [
       "<pre>| 23      | 19.09s       | 2.99953                |</pre>"
      ],
      "text/plain": [
       "| 23      | 19.09s       | 2.99953                |"
      ]
     },
     "metadata": {},
     "output_type": "display_data"
    },
    {
     "data": {
      "text/html": [
       "<pre>| 24      | 19.99s       | 2.99874                |</pre>"
      ],
      "text/plain": [
       "| 24      | 19.99s       | 2.99874                |"
      ]
     },
     "metadata": {},
     "output_type": "display_data"
    },
    {
     "data": {
      "text/html": [
       "<pre>| 25      | 20.80s       | 2.99801                |</pre>"
      ],
      "text/plain": [
       "| 25      | 20.80s       | 2.99801                |"
      ]
     },
     "metadata": {},
     "output_type": "display_data"
    },
    {
     "data": {
      "text/html": [
       "<pre>| 26      | 21.68s       | 2.99732                |</pre>"
      ],
      "text/plain": [
       "| 26      | 21.68s       | 2.99732                |"
      ]
     },
     "metadata": {},
     "output_type": "display_data"
    },
    {
     "data": {
      "text/html": [
       "<pre>| 27      | 22.50s       | 2.99667                |</pre>"
      ],
      "text/plain": [
       "| 27      | 22.50s       | 2.99667                |"
      ]
     },
     "metadata": {},
     "output_type": "display_data"
    },
    {
     "data": {
      "text/html": [
       "<pre>| 28      | 23.28s       | 2.99607                |</pre>"
      ],
      "text/plain": [
       "| 28      | 23.28s       | 2.99607                |"
      ]
     },
     "metadata": {},
     "output_type": "display_data"
    },
    {
     "data": {
      "text/html": [
       "<pre>| 29      | 24.06s       | 2.9955                 |</pre>"
      ],
      "text/plain": [
       "| 29      | 24.06s       | 2.9955                 |"
      ]
     },
     "metadata": {},
     "output_type": "display_data"
    },
    {
     "data": {
      "text/html": [
       "<pre>| 30      | 24.85s       | 2.99495                |</pre>"
      ],
      "text/plain": [
       "| 30      | 24.85s       | 2.99495                |"
      ]
     },
     "metadata": {},
     "output_type": "display_data"
    },
    {
     "data": {
      "text/html": [
       "<pre>| 31      | 25.63s       | 2.99444                |</pre>"
      ],
      "text/plain": [
       "| 31      | 25.63s       | 2.99444                |"
      ]
     },
     "metadata": {},
     "output_type": "display_data"
    },
    {
     "data": {
      "text/html": [
       "<pre>| 32      | 26.43s       | 2.99396                |</pre>"
      ],
      "text/plain": [
       "| 32      | 26.43s       | 2.99396                |"
      ]
     },
     "metadata": {},
     "output_type": "display_data"
    },
    {
     "data": {
      "text/html": [
       "<pre>| 33      | 27.23s       | 2.99349                |</pre>"
      ],
      "text/plain": [
       "| 33      | 27.23s       | 2.99349                |"
      ]
     },
     "metadata": {},
     "output_type": "display_data"
    },
    {
     "data": {
      "text/html": [
       "<pre>| 34      | 28.01s       | 2.99305                |</pre>"
      ],
      "text/plain": [
       "| 34      | 28.01s       | 2.99305                |"
      ]
     },
     "metadata": {},
     "output_type": "display_data"
    },
    {
     "data": {
      "text/html": [
       "<pre>| 35      | 28.79s       | 2.99262                |</pre>"
      ],
      "text/plain": [
       "| 35      | 28.79s       | 2.99262                |"
      ]
     },
     "metadata": {},
     "output_type": "display_data"
    },
    {
     "data": {
      "text/html": [
       "<pre>| 36      | 29.58s       | 2.99221                |</pre>"
      ],
      "text/plain": [
       "| 36      | 29.58s       | 2.99221                |"
      ]
     },
     "metadata": {},
     "output_type": "display_data"
    },
    {
     "data": {
      "text/html": [
       "<pre>| 37      | 30.38s       | 2.99182                |</pre>"
      ],
      "text/plain": [
       "| 37      | 30.38s       | 2.99182                |"
      ]
     },
     "metadata": {},
     "output_type": "display_data"
    },
    {
     "data": {
      "text/html": [
       "<pre>| 38      | 31.16s       | 2.99144                |</pre>"
      ],
      "text/plain": [
       "| 38      | 31.16s       | 2.99144                |"
      ]
     },
     "metadata": {},
     "output_type": "display_data"
    },
    {
     "data": {
      "text/html": [
       "<pre>| 39      | 31.94s       | 2.99107                |</pre>"
      ],
      "text/plain": [
       "| 39      | 31.94s       | 2.99107                |"
      ]
     },
     "metadata": {},
     "output_type": "display_data"
    },
    {
     "data": {
      "text/html": [
       "<pre>| 40      | 32.72s       | 2.99071                |</pre>"
      ],
      "text/plain": [
       "| 40      | 32.72s       | 2.99071                |"
      ]
     },
     "metadata": {},
     "output_type": "display_data"
    },
    {
     "data": {
      "text/html": [
       "<pre>| 41      | 33.49s       | 2.99035                |</pre>"
      ],
      "text/plain": [
       "| 41      | 33.49s       | 2.99035                |"
      ]
     },
     "metadata": {},
     "output_type": "display_data"
    },
    {
     "data": {
      "text/html": [
       "<pre>| 42      | 34.28s       | 2.99001                |</pre>"
      ],
      "text/plain": [
       "| 42      | 34.28s       | 2.99001                |"
      ]
     },
     "metadata": {},
     "output_type": "display_data"
    },
    {
     "data": {
      "text/html": [
       "<pre>| 43      | 35.07s       | 2.98967                |</pre>"
      ],
      "text/plain": [
       "| 43      | 35.07s       | 2.98967                |"
      ]
     },
     "metadata": {},
     "output_type": "display_data"
    },
    {
     "data": {
      "text/html": [
       "<pre>| 44      | 35.87s       | 2.98933                |</pre>"
      ],
      "text/plain": [
       "| 44      | 35.87s       | 2.98933                |"
      ]
     },
     "metadata": {},
     "output_type": "display_data"
    },
    {
     "data": {
      "text/html": [
       "<pre>| 45      | 36.66s       | 2.989                  |</pre>"
      ],
      "text/plain": [
       "| 45      | 36.66s       | 2.989                  |"
      ]
     },
     "metadata": {},
     "output_type": "display_data"
    },
    {
     "data": {
      "text/html": [
       "<pre>| 46      | 37.45s       | 2.98867                |</pre>"
      ],
      "text/plain": [
       "| 46      | 37.45s       | 2.98867                |"
      ]
     },
     "metadata": {},
     "output_type": "display_data"
    },
    {
     "data": {
      "text/html": [
       "<pre>| 47      | 38.24s       | 2.98835                |</pre>"
      ],
      "text/plain": [
       "| 47      | 38.24s       | 2.98835                |"
      ]
     },
     "metadata": {},
     "output_type": "display_data"
    },
    {
     "data": {
      "text/html": [
       "<pre>| 48      | 39.03s       | 2.98803                |</pre>"
      ],
      "text/plain": [
       "| 48      | 39.03s       | 2.98803                |"
      ]
     },
     "metadata": {},
     "output_type": "display_data"
    },
    {
     "data": {
      "text/html": [
       "<pre>| 49      | 39.81s       | 2.98772                |</pre>"
      ],
      "text/plain": [
       "| 49      | 39.81s       | 2.98772                |"
      ]
     },
     "metadata": {},
     "output_type": "display_data"
    },
    {
     "data": {
      "text/html": [
       "<pre>| FINAL   | 39.81s       | 2.98772                |</pre>"
      ],
      "text/plain": [
       "| FINAL   | 39.81s       | 2.98772                |"
      ]
     },
     "metadata": {},
     "output_type": "display_data"
    },
    {
     "data": {
      "text/html": [
       "<pre>+---------+--------------+------------------------+</pre>"
      ],
      "text/plain": [
       "+---------+--------------+------------------------+"
      ]
     },
     "metadata": {},
     "output_type": "display_data"
    },
    {
     "data": {
      "text/html": [
       "<pre>Optimization Complete: Iteration limit reached.</pre>"
      ],
      "text/plain": [
       "Optimization Complete: Iteration limit reached."
      ]
     },
     "metadata": {},
     "output_type": "display_data"
    },
    {
     "data": {
      "text/html": [
       "<pre>Recsys training: model = factorization_recommender</pre>"
      ],
      "text/plain": [
       "Recsys training: model = factorization_recommender"
      ]
     },
     "metadata": {},
     "output_type": "display_data"
    },
    {
     "data": {
      "text/html": [
       "<pre>Preparing data set.</pre>"
      ],
      "text/plain": [
       "Preparing data set."
      ]
     },
     "metadata": {},
     "output_type": "display_data"
    },
    {
     "data": {
      "text/html": [
       "<pre>    Data has 1218325 observations with 50692 users and 141 items.</pre>"
      ],
      "text/plain": [
       "    Data has 1218325 observations with 50692 users and 141 items."
      ]
     },
     "metadata": {},
     "output_type": "display_data"
    },
    {
     "data": {
      "text/html": [
       "<pre>    Data prepared in: 1.45033s</pre>"
      ],
      "text/plain": [
       "    Data prepared in: 1.45033s"
      ]
     },
     "metadata": {},
     "output_type": "display_data"
    },
    {
     "data": {
      "text/html": [
       "<pre>Training factorization_recommender for recommendations.</pre>"
      ],
      "text/plain": [
       "Training factorization_recommender for recommendations."
      ]
     },
     "metadata": {},
     "output_type": "display_data"
    },
    {
     "data": {
      "text/html": [
       "<pre>+------------------------------+--------------------------------------------------+----------+</pre>"
      ],
      "text/plain": [
       "+------------------------------+--------------------------------------------------+----------+"
      ]
     },
     "metadata": {},
     "output_type": "display_data"
    },
    {
     "data": {
      "text/html": [
       "<pre>| Parameter                    | Description                                      | Value    |</pre>"
      ],
      "text/plain": [
       "| Parameter                    | Description                                      | Value    |"
      ]
     },
     "metadata": {},
     "output_type": "display_data"
    },
    {
     "data": {
      "text/html": [
       "<pre>+------------------------------+--------------------------------------------------+----------+</pre>"
      ],
      "text/plain": [
       "+------------------------------+--------------------------------------------------+----------+"
      ]
     },
     "metadata": {},
     "output_type": "display_data"
    },
    {
     "data": {
      "text/html": [
       "<pre>| num_factors                  | Factor Dimension                                 | 8        |</pre>"
      ],
      "text/plain": [
       "| num_factors                  | Factor Dimension                                 | 8        |"
      ]
     },
     "metadata": {},
     "output_type": "display_data"
    },
    {
     "data": {
      "text/html": [
       "<pre>| regularization               | L2 Regularization on Factors                     | 1e-10    |</pre>"
      ],
      "text/plain": [
       "| regularization               | L2 Regularization on Factors                     | 1e-10    |"
      ]
     },
     "metadata": {},
     "output_type": "display_data"
    },
    {
     "data": {
      "text/html": [
       "<pre>| max_iterations               | Maximum Number of Iterations                     | 50       |</pre>"
      ],
      "text/plain": [
       "| max_iterations               | Maximum Number of Iterations                     | 50       |"
      ]
     },
     "metadata": {},
     "output_type": "display_data"
    },
    {
     "data": {
      "text/html": [
       "<pre>| solver                       | Solver used for training                         | als      |</pre>"
      ],
      "text/plain": [
       "| solver                       | Solver used for training                         | als      |"
      ]
     },
     "metadata": {},
     "output_type": "display_data"
    },
    {
     "data": {
      "text/html": [
       "<pre>+------------------------------+--------------------------------------------------+----------+</pre>"
      ],
      "text/plain": [
       "+------------------------------+--------------------------------------------------+----------+"
      ]
     },
     "metadata": {},
     "output_type": "display_data"
    },
    {
     "data": {
      "text/html": [
       "<pre>+---------+--------------+------------------------+</pre>"
      ],
      "text/plain": [
       "+---------+--------------+------------------------+"
      ]
     },
     "metadata": {},
     "output_type": "display_data"
    },
    {
     "data": {
      "text/html": [
       "<pre>| Iter.   | Elapsed time | RMSE                   |</pre>"
      ],
      "text/plain": [
       "| Iter.   | Elapsed time | RMSE                   |"
      ]
     },
     "metadata": {},
     "output_type": "display_data"
    },
    {
     "data": {
      "text/html": [
       "<pre>+---------+--------------+------------------------+</pre>"
      ],
      "text/plain": [
       "+---------+--------------+------------------------+"
      ]
     },
     "metadata": {},
     "output_type": "display_data"
    },
    {
     "data": {
      "text/html": [
       "<pre>| Initial | 80us         | NA                     |</pre>"
      ],
      "text/plain": [
       "| Initial | 80us         | NA                     |"
      ]
     },
     "metadata": {},
     "output_type": "display_data"
    },
    {
     "data": {
      "text/html": [
       "<pre>+---------+--------------+------------------------+</pre>"
      ],
      "text/plain": [
       "+---------+--------------+------------------------+"
      ]
     },
     "metadata": {},
     "output_type": "display_data"
    },
    {
     "data": {
      "text/html": [
       "<pre>| 0       | 825.502ms    | 4.25558                |</pre>"
      ],
      "text/plain": [
       "| 0       | 825.502ms    | 4.25558                |"
      ]
     },
     "metadata": {},
     "output_type": "display_data"
    },
    {
     "data": {
      "text/html": [
       "<pre>| 1       | 1.62s        | 3.20689                |</pre>"
      ],
      "text/plain": [
       "| 1       | 1.62s        | 3.20689                |"
      ]
     },
     "metadata": {},
     "output_type": "display_data"
    },
    {
     "data": {
      "text/html": [
       "<pre>| 2       | 2.41s        | 3.12633                |</pre>"
      ],
      "text/plain": [
       "| 2       | 2.41s        | 3.12633                |"
      ]
     },
     "metadata": {},
     "output_type": "display_data"
    },
    {
     "data": {
      "text/html": [
       "<pre>| 3       | 3.20s        | 3.08606                |</pre>"
      ],
      "text/plain": [
       "| 3       | 3.20s        | 3.08606                |"
      ]
     },
     "metadata": {},
     "output_type": "display_data"
    },
    {
     "data": {
      "text/html": [
       "<pre>| 4       | 3.99s        | 3.06354                |</pre>"
      ],
      "text/plain": [
       "| 4       | 3.99s        | 3.06354                |"
      ]
     },
     "metadata": {},
     "output_type": "display_data"
    },
    {
     "data": {
      "text/html": [
       "<pre>| 5       | 4.79s        | 3.04981                |</pre>"
      ],
      "text/plain": [
       "| 5       | 4.79s        | 3.04981                |"
      ]
     },
     "metadata": {},
     "output_type": "display_data"
    },
    {
     "data": {
      "text/html": [
       "<pre>| 6       | 5.58s        | 3.04052                |</pre>"
      ],
      "text/plain": [
       "| 6       | 5.58s        | 3.04052                |"
      ]
     },
     "metadata": {},
     "output_type": "display_data"
    },
    {
     "data": {
      "text/html": [
       "<pre>| 7       | 6.37s        | 3.03372                |</pre>"
      ],
      "text/plain": [
       "| 7       | 6.37s        | 3.03372                |"
      ]
     },
     "metadata": {},
     "output_type": "display_data"
    },
    {
     "data": {
      "text/html": [
       "<pre>| 8       | 7.17s        | 3.02849                |</pre>"
      ],
      "text/plain": [
       "| 8       | 7.17s        | 3.02849                |"
      ]
     },
     "metadata": {},
     "output_type": "display_data"
    },
    {
     "data": {
      "text/html": [
       "<pre>| 9       | 7.96s        | 3.02428                |</pre>"
      ],
      "text/plain": [
       "| 9       | 7.96s        | 3.02428                |"
      ]
     },
     "metadata": {},
     "output_type": "display_data"
    },
    {
     "data": {
      "text/html": [
       "<pre>| 10      | 8.77s        | 3.02079                |</pre>"
      ],
      "text/plain": [
       "| 10      | 8.77s        | 3.02079                |"
      ]
     },
     "metadata": {},
     "output_type": "display_data"
    },
    {
     "data": {
      "text/html": [
       "<pre>| 11      | 9.57s        | 3.01782                |</pre>"
      ],
      "text/plain": [
       "| 11      | 9.57s        | 3.01782                |"
      ]
     },
     "metadata": {},
     "output_type": "display_data"
    },
    {
     "data": {
      "text/html": [
       "<pre>| 12      | 10.35s       | 3.01523                |</pre>"
      ],
      "text/plain": [
       "| 12      | 10.35s       | 3.01523                |"
      ]
     },
     "metadata": {},
     "output_type": "display_data"
    },
    {
     "data": {
      "text/html": [
       "<pre>| 13      | 11.14s       | 3.01297                |</pre>"
      ],
      "text/plain": [
       "| 13      | 11.14s       | 3.01297                |"
      ]
     },
     "metadata": {},
     "output_type": "display_data"
    },
    {
     "data": {
      "text/html": [
       "<pre>| 14      | 11.92s       | 3.01097                |</pre>"
      ],
      "text/plain": [
       "| 14      | 11.92s       | 3.01097                |"
      ]
     },
     "metadata": {},
     "output_type": "display_data"
    },
    {
     "data": {
      "text/html": [
       "<pre>| 15      | 12.70s       | 3.0092                 |</pre>"
      ],
      "text/plain": [
       "| 15      | 12.70s       | 3.0092                 |"
      ]
     },
     "metadata": {},
     "output_type": "display_data"
    },
    {
     "data": {
      "text/html": [
       "<pre>| 16      | 13.51s       | 3.00763                |</pre>"
      ],
      "text/plain": [
       "| 16      | 13.51s       | 3.00763                |"
      ]
     },
     "metadata": {},
     "output_type": "display_data"
    },
    {
     "data": {
      "text/html": [
       "<pre>| 17      | 14.31s       | 3.00621                |</pre>"
      ],
      "text/plain": [
       "| 17      | 14.31s       | 3.00621                |"
      ]
     },
     "metadata": {},
     "output_type": "display_data"
    },
    {
     "data": {
      "text/html": [
       "<pre>| 18      | 15.09s       | 3.00494                |</pre>"
      ],
      "text/plain": [
       "| 18      | 15.09s       | 3.00494                |"
      ]
     },
     "metadata": {},
     "output_type": "display_data"
    },
    {
     "data": {
      "text/html": [
       "<pre>| 19      | 15.88s       | 3.00378                |</pre>"
      ],
      "text/plain": [
       "| 19      | 15.88s       | 3.00378                |"
      ]
     },
     "metadata": {},
     "output_type": "display_data"
    },
    {
     "data": {
      "text/html": [
       "<pre>| 20      | 16.67s       | 3.00272                |</pre>"
      ],
      "text/plain": [
       "| 20      | 16.67s       | 3.00272                |"
      ]
     },
     "metadata": {},
     "output_type": "display_data"
    },
    {
     "data": {
      "text/html": [
       "<pre>| 21      | 17.47s       | 3.00175                |</pre>"
      ],
      "text/plain": [
       "| 21      | 17.47s       | 3.00175                |"
      ]
     },
     "metadata": {},
     "output_type": "display_data"
    },
    {
     "data": {
      "text/html": [
       "<pre>| 22      | 18.24s       | 3.00086                |</pre>"
      ],
      "text/plain": [
       "| 22      | 18.24s       | 3.00086                |"
      ]
     },
     "metadata": {},
     "output_type": "display_data"
    },
    {
     "data": {
      "text/html": [
       "<pre>| 23      | 19.02s       | 3.00004                |</pre>"
      ],
      "text/plain": [
       "| 23      | 19.02s       | 3.00004                |"
      ]
     },
     "metadata": {},
     "output_type": "display_data"
    },
    {
     "data": {
      "text/html": [
       "<pre>| 24      | 19.81s       | 2.99927                |</pre>"
      ],
      "text/plain": [
       "| 24      | 19.81s       | 2.99927                |"
      ]
     },
     "metadata": {},
     "output_type": "display_data"
    },
    {
     "data": {
      "text/html": [
       "<pre>| 25      | 20.57s       | 2.99856                |</pre>"
      ],
      "text/plain": [
       "| 25      | 20.57s       | 2.99856                |"
      ]
     },
     "metadata": {},
     "output_type": "display_data"
    },
    {
     "data": {
      "text/html": [
       "<pre>| 26      | 21.36s       | 2.9979                 |</pre>"
      ],
      "text/plain": [
       "| 26      | 21.36s       | 2.9979                 |"
      ]
     },
     "metadata": {},
     "output_type": "display_data"
    },
    {
     "data": {
      "text/html": [
       "<pre>| 27      | 22.15s       | 2.99728                |</pre>"
      ],
      "text/plain": [
       "| 27      | 22.15s       | 2.99728                |"
      ]
     },
     "metadata": {},
     "output_type": "display_data"
    },
    {
     "data": {
      "text/html": [
       "<pre>| 28      | 22.92s       | 2.99669                |</pre>"
      ],
      "text/plain": [
       "| 28      | 22.92s       | 2.99669                |"
      ]
     },
     "metadata": {},
     "output_type": "display_data"
    },
    {
     "data": {
      "text/html": [
       "<pre>| 29      | 23.71s       | 2.99614                |</pre>"
      ],
      "text/plain": [
       "| 29      | 23.71s       | 2.99614                |"
      ]
     },
     "metadata": {},
     "output_type": "display_data"
    },
    {
     "data": {
      "text/html": [
       "<pre>| 30      | 24.50s       | 2.99562                |</pre>"
      ],
      "text/plain": [
       "| 30      | 24.50s       | 2.99562                |"
      ]
     },
     "metadata": {},
     "output_type": "display_data"
    },
    {
     "data": {
      "text/html": [
       "<pre>| 31      | 25.48s       | 2.99512                |</pre>"
      ],
      "text/plain": [
       "| 31      | 25.48s       | 2.99512                |"
      ]
     },
     "metadata": {},
     "output_type": "display_data"
    },
    {
     "data": {
      "text/html": [
       "<pre>| 32      | 26.48s       | 2.99465                |</pre>"
      ],
      "text/plain": [
       "| 32      | 26.48s       | 2.99465                |"
      ]
     },
     "metadata": {},
     "output_type": "display_data"
    },
    {
     "data": {
      "text/html": [
       "<pre>| 33      | 27.28s       | 2.99421                |</pre>"
      ],
      "text/plain": [
       "| 33      | 27.28s       | 2.99421                |"
      ]
     },
     "metadata": {},
     "output_type": "display_data"
    },
    {
     "data": {
      "text/html": [
       "<pre>| 34      | 28.18s       | 2.99378                |</pre>"
      ],
      "text/plain": [
       "| 34      | 28.18s       | 2.99378                |"
      ]
     },
     "metadata": {},
     "output_type": "display_data"
    },
    {
     "data": {
      "text/html": [
       "<pre>| 35      | 28.96s       | 2.99338                |</pre>"
      ],
      "text/plain": [
       "| 35      | 28.96s       | 2.99338                |"
      ]
     },
     "metadata": {},
     "output_type": "display_data"
    },
    {
     "data": {
      "text/html": [
       "<pre>| 36      | 29.75s       | 2.99299                |</pre>"
      ],
      "text/plain": [
       "| 36      | 29.75s       | 2.99299                |"
      ]
     },
     "metadata": {},
     "output_type": "display_data"
    },
    {
     "data": {
      "text/html": [
       "<pre>| 37      | 30.55s       | 2.99261                |</pre>"
      ],
      "text/plain": [
       "| 37      | 30.55s       | 2.99261                |"
      ]
     },
     "metadata": {},
     "output_type": "display_data"
    },
    {
     "data": {
      "text/html": [
       "<pre>| 38      | 31.35s       | 2.99226                |</pre>"
      ],
      "text/plain": [
       "| 38      | 31.35s       | 2.99226                |"
      ]
     },
     "metadata": {},
     "output_type": "display_data"
    },
    {
     "data": {
      "text/html": [
       "<pre>| 39      | 32.14s       | 2.99191                |</pre>"
      ],
      "text/plain": [
       "| 39      | 32.14s       | 2.99191                |"
      ]
     },
     "metadata": {},
     "output_type": "display_data"
    },
    {
     "data": {
      "text/html": [
       "<pre>| 40      | 32.94s       | 2.99158                |</pre>"
      ],
      "text/plain": [
       "| 40      | 32.94s       | 2.99158                |"
      ]
     },
     "metadata": {},
     "output_type": "display_data"
    },
    {
     "data": {
      "text/html": [
       "<pre>| 41      | 33.75s       | 2.99126                |</pre>"
      ],
      "text/plain": [
       "| 41      | 33.75s       | 2.99126                |"
      ]
     },
     "metadata": {},
     "output_type": "display_data"
    },
    {
     "data": {
      "text/html": [
       "<pre>| 42      | 34.54s       | 2.99095                |</pre>"
      ],
      "text/plain": [
       "| 42      | 34.54s       | 2.99095                |"
      ]
     },
     "metadata": {},
     "output_type": "display_data"
    },
    {
     "data": {
      "text/html": [
       "<pre>| 43      | 35.35s       | 2.99064                |</pre>"
      ],
      "text/plain": [
       "| 43      | 35.35s       | 2.99064                |"
      ]
     },
     "metadata": {},
     "output_type": "display_data"
    },
    {
     "data": {
      "text/html": [
       "<pre>| 44      | 36.15s       | 2.99035                |</pre>"
      ],
      "text/plain": [
       "| 44      | 36.15s       | 2.99035                |"
      ]
     },
     "metadata": {},
     "output_type": "display_data"
    },
    {
     "data": {
      "text/html": [
       "<pre>| 45      | 36.96s       | 2.99006                |</pre>"
      ],
      "text/plain": [
       "| 45      | 36.96s       | 2.99006                |"
      ]
     },
     "metadata": {},
     "output_type": "display_data"
    },
    {
     "data": {
      "text/html": [
       "<pre>| 46      | 37.73s       | 2.98979                |</pre>"
      ],
      "text/plain": [
       "| 46      | 37.73s       | 2.98979                |"
      ]
     },
     "metadata": {},
     "output_type": "display_data"
    },
    {
     "data": {
      "text/html": [
       "<pre>| 47      | 38.50s       | 2.98951                |</pre>"
      ],
      "text/plain": [
       "| 47      | 38.50s       | 2.98951                |"
      ]
     },
     "metadata": {},
     "output_type": "display_data"
    },
    {
     "data": {
      "text/html": [
       "<pre>| 48      | 39.33s       | 2.98925                |</pre>"
      ],
      "text/plain": [
       "| 48      | 39.33s       | 2.98925                |"
      ]
     },
     "metadata": {},
     "output_type": "display_data"
    },
    {
     "data": {
      "text/html": [
       "<pre>| 49      | 40.12s       | 2.98898                |</pre>"
      ],
      "text/plain": [
       "| 49      | 40.12s       | 2.98898                |"
      ]
     },
     "metadata": {},
     "output_type": "display_data"
    },
    {
     "data": {
      "text/html": [
       "<pre>| FINAL   | 40.12s       | 2.98898                |</pre>"
      ],
      "text/plain": [
       "| FINAL   | 40.12s       | 2.98898                |"
      ]
     },
     "metadata": {},
     "output_type": "display_data"
    },
    {
     "data": {
      "text/html": [
       "<pre>+---------+--------------+------------------------+</pre>"
      ],
      "text/plain": [
       "+---------+--------------+------------------------+"
      ]
     },
     "metadata": {},
     "output_type": "display_data"
    },
    {
     "data": {
      "text/html": [
       "<pre>Optimization Complete: Iteration limit reached.</pre>"
      ],
      "text/plain": [
       "Optimization Complete: Iteration limit reached."
      ]
     },
     "metadata": {},
     "output_type": "display_data"
    }
   ],
   "source": [
    "'''\n",
    "Create a matrix factorization model.\n",
    "Tune the model to find the best parameters.\n",
    "Find best parameters by rmse.\n",
    "'''\n",
    "lmbdas = [0, 1e-16, 1e-14, 1e-12, 1e-10]\n",
    "rmses = []\n",
    "for lmbda in lmbdas:\n",
    "    rating_recommender = graphlab.recommender.factorization_recommender.create(\n",
    "        sf, \n",
    "        user_id = 'user_id', \n",
    "        item_id = 'joke_id', \n",
    "        target = 'rating', \n",
    "        solver = 'als', \n",
    "        regularization = lmbda)\n",
    "    rmses.append(rating_recommender.get('training_rmse'))"
   ]
  },
  {
   "cell_type": "code",
   "execution_count": 24,
   "metadata": {
    "collapsed": false
   },
   "outputs": [
    {
     "data": {
      "text/plain": [
       "[2.9879381876201645,\n",
       " 2.9879383694996497,\n",
       " 2.9877853963073755,\n",
       " 2.9877232997494882,\n",
       " 2.9890093885971334]"
      ]
     },
     "execution_count": 24,
     "metadata": {},
     "output_type": "execute_result"
    }
   ],
   "source": [
    "rmses #best regularization parameter at lambda = 1e-12"
   ]
  },
  {
   "cell_type": "code",
   "execution_count": 31,
   "metadata": {
    "collapsed": false,
    "scrolled": false
   },
   "outputs": [
    {
     "data": {
      "text/html": [
       "<pre>Recsys training: model = factorization_recommender</pre>"
      ],
      "text/plain": [
       "Recsys training: model = factorization_recommender"
      ]
     },
     "metadata": {},
     "output_type": "display_data"
    },
    {
     "data": {
      "text/html": [
       "<pre>Preparing data set.</pre>"
      ],
      "text/plain": [
       "Preparing data set."
      ]
     },
     "metadata": {},
     "output_type": "display_data"
    },
    {
     "data": {
      "text/html": [
       "<pre>    Data has 1218325 observations with 50692 users and 141 items.</pre>"
      ],
      "text/plain": [
       "    Data has 1218325 observations with 50692 users and 141 items."
      ]
     },
     "metadata": {},
     "output_type": "display_data"
    },
    {
     "data": {
      "text/html": [
       "<pre>    Data prepared in: 1.86218s</pre>"
      ],
      "text/plain": [
       "    Data prepared in: 1.86218s"
      ]
     },
     "metadata": {},
     "output_type": "display_data"
    },
    {
     "data": {
      "text/html": [
       "<pre>Training factorization_recommender for recommendations.</pre>"
      ],
      "text/plain": [
       "Training factorization_recommender for recommendations."
      ]
     },
     "metadata": {},
     "output_type": "display_data"
    },
    {
     "data": {
      "text/html": [
       "<pre>+--------------------------------+--------------------------------------------------+----------+</pre>"
      ],
      "text/plain": [
       "+--------------------------------+--------------------------------------------------+----------+"
      ]
     },
     "metadata": {},
     "output_type": "display_data"
    },
    {
     "data": {
      "text/html": [
       "<pre>| Parameter                      | Description                                      | Value    |</pre>"
      ],
      "text/plain": [
       "| Parameter                      | Description                                      | Value    |"
      ]
     },
     "metadata": {},
     "output_type": "display_data"
    },
    {
     "data": {
      "text/html": [
       "<pre>+--------------------------------+--------------------------------------------------+----------+</pre>"
      ],
      "text/plain": [
       "+--------------------------------+--------------------------------------------------+----------+"
      ]
     },
     "metadata": {},
     "output_type": "display_data"
    },
    {
     "data": {
      "text/html": [
       "<pre>| num_factors                    | Factor Dimension                                 | 8        |</pre>"
      ],
      "text/plain": [
       "| num_factors                    | Factor Dimension                                 | 8        |"
      ]
     },
     "metadata": {},
     "output_type": "display_data"
    },
    {
     "data": {
      "text/html": [
       "<pre>| regularization                 | L2 Regularization on Factors                     | 1e-12    |</pre>"
      ],
      "text/plain": [
       "| regularization                 | L2 Regularization on Factors                     | 1e-12    |"
      ]
     },
     "metadata": {},
     "output_type": "display_data"
    },
    {
     "data": {
      "text/html": [
       "<pre>| solver                         | Solver used for training                         | sgd      |</pre>"
      ],
      "text/plain": [
       "| solver                         | Solver used for training                         | sgd      |"
      ]
     },
     "metadata": {},
     "output_type": "display_data"
    },
    {
     "data": {
      "text/html": [
       "<pre>| linear_regularization          | L2 Regularization on Linear Coefficients         | 1e-10    |</pre>"
      ],
      "text/plain": [
       "| linear_regularization          | L2 Regularization on Linear Coefficients         | 1e-10    |"
      ]
     },
     "metadata": {},
     "output_type": "display_data"
    },
    {
     "data": {
      "text/html": [
       "<pre>| max_iterations                 | Maximum Number of Iterations                     | 50       |</pre>"
      ],
      "text/plain": [
       "| max_iterations                 | Maximum Number of Iterations                     | 50       |"
      ]
     },
     "metadata": {},
     "output_type": "display_data"
    },
    {
     "data": {
      "text/html": [
       "<pre>+--------------------------------+--------------------------------------------------+----------+</pre>"
      ],
      "text/plain": [
       "+--------------------------------+--------------------------------------------------+----------+"
      ]
     },
     "metadata": {},
     "output_type": "display_data"
    },
    {
     "data": {
      "text/html": [
       "<pre>  Optimizing model using SGD; tuning step size.</pre>"
      ],
      "text/plain": [
       "  Optimizing model using SGD; tuning step size."
      ]
     },
     "metadata": {},
     "output_type": "display_data"
    },
    {
     "data": {
      "text/html": [
       "<pre>  Using 152290 / 1218325 points for tuning the step size.</pre>"
      ],
      "text/plain": [
       "  Using 152290 / 1218325 points for tuning the step size."
      ]
     },
     "metadata": {},
     "output_type": "display_data"
    },
    {
     "data": {
      "text/html": [
       "<pre>+---------+-------------------+------------------------------------------+</pre>"
      ],
      "text/plain": [
       "+---------+-------------------+------------------------------------------+"
      ]
     },
     "metadata": {},
     "output_type": "display_data"
    },
    {
     "data": {
      "text/html": [
       "<pre>| Attempt | Initial Step Size | Estimated Objective Value                |</pre>"
      ],
      "text/plain": [
       "| Attempt | Initial Step Size | Estimated Objective Value                |"
      ]
     },
     "metadata": {},
     "output_type": "display_data"
    },
    {
     "data": {
      "text/html": [
       "<pre>+---------+-------------------+------------------------------------------+</pre>"
      ],
      "text/plain": [
       "+---------+-------------------+------------------------------------------+"
      ]
     },
     "metadata": {},
     "output_type": "display_data"
    },
    {
     "data": {
      "text/html": [
       "<pre>| 0       | 25                | No Decrease (225.05 >= 27.9304)          |</pre>"
      ],
      "text/plain": [
       "| 0       | 25                | No Decrease (225.05 >= 27.9304)          |"
      ]
     },
     "metadata": {},
     "output_type": "display_data"
    },
    {
     "data": {
      "text/html": [
       "<pre>| 1       | 6.25              | No Decrease (195.413 >= 27.9304)         |</pre>"
      ],
      "text/plain": [
       "| 1       | 6.25              | No Decrease (195.413 >= 27.9304)         |"
      ]
     },
     "metadata": {},
     "output_type": "display_data"
    },
    {
     "data": {
      "text/html": [
       "<pre>| 2       | 1.5625            | No Decrease (205.977 >= 27.9304)         |</pre>"
      ],
      "text/plain": [
       "| 2       | 1.5625            | No Decrease (205.977 >= 27.9304)         |"
      ]
     },
     "metadata": {},
     "output_type": "display_data"
    },
    {
     "data": {
      "text/html": [
       "<pre>| 3       | 0.390625          | No Decrease (111.462 >= 27.9304)         |</pre>"
      ],
      "text/plain": [
       "| 3       | 0.390625          | No Decrease (111.462 >= 27.9304)         |"
      ]
     },
     "metadata": {},
     "output_type": "display_data"
    },
    {
     "data": {
      "text/html": [
       "<pre>| 4       | 0.0976562         | 20.1478                                  |</pre>"
      ],
      "text/plain": [
       "| 4       | 0.0976562         | 20.1478                                  |"
      ]
     },
     "metadata": {},
     "output_type": "display_data"
    },
    {
     "data": {
      "text/html": [
       "<pre>| 5       | 0.0488281         | 9.03515                                  |</pre>"
      ],
      "text/plain": [
       "| 5       | 0.0488281         | 9.03515                                  |"
      ]
     },
     "metadata": {},
     "output_type": "display_data"
    },
    {
     "data": {
      "text/html": [
       "<pre>| 6       | 0.0244141         | 2.92023                                  |</pre>"
      ],
      "text/plain": [
       "| 6       | 0.0244141         | 2.92023                                  |"
      ]
     },
     "metadata": {},
     "output_type": "display_data"
    },
    {
     "data": {
      "text/html": [
       "<pre>| 7       | 0.012207          | 9.95081                                  |</pre>"
      ],
      "text/plain": [
       "| 7       | 0.012207          | 9.95081                                  |"
      ]
     },
     "metadata": {},
     "output_type": "display_data"
    },
    {
     "data": {
      "text/html": [
       "<pre>+---------+-------------------+------------------------------------------+</pre>"
      ],
      "text/plain": [
       "+---------+-------------------+------------------------------------------+"
      ]
     },
     "metadata": {},
     "output_type": "display_data"
    },
    {
     "data": {
      "text/html": [
       "<pre>| Final   | 0.0244141         | 2.92023                                  |</pre>"
      ],
      "text/plain": [
       "| Final   | 0.0244141         | 2.92023                                  |"
      ]
     },
     "metadata": {},
     "output_type": "display_data"
    },
    {
     "data": {
      "text/html": [
       "<pre>+---------+-------------------+------------------------------------------+</pre>"
      ],
      "text/plain": [
       "+---------+-------------------+------------------------------------------+"
      ]
     },
     "metadata": {},
     "output_type": "display_data"
    },
    {
     "data": {
      "text/html": [
       "<pre>Starting Optimization.</pre>"
      ],
      "text/plain": [
       "Starting Optimization."
      ]
     },
     "metadata": {},
     "output_type": "display_data"
    },
    {
     "data": {
      "text/html": [
       "<pre>+---------+--------------+-------------------+-----------------------+-------------+</pre>"
      ],
      "text/plain": [
       "+---------+--------------+-------------------+-----------------------+-------------+"
      ]
     },
     "metadata": {},
     "output_type": "display_data"
    },
    {
     "data": {
      "text/html": [
       "<pre>| Iter.   | Elapsed Time | Approx. Objective | Approx. Training RMSE | Step Size   |</pre>"
      ],
      "text/plain": [
       "| Iter.   | Elapsed Time | Approx. Objective | Approx. Training RMSE | Step Size   |"
      ]
     },
     "metadata": {},
     "output_type": "display_data"
    },
    {
     "data": {
      "text/html": [
       "<pre>+---------+--------------+-------------------+-----------------------+-------------+</pre>"
      ],
      "text/plain": [
       "+---------+--------------+-------------------+-----------------------+-------------+"
      ]
     },
     "metadata": {},
     "output_type": "display_data"
    },
    {
     "data": {
      "text/html": [
       "<pre>| Initial | 137us        | 27.9389           | 5.28573               |             |</pre>"
      ],
      "text/plain": [
       "| Initial | 137us        | 27.9389           | 5.28573               |             |"
      ]
     },
     "metadata": {},
     "output_type": "display_data"
    },
    {
     "data": {
      "text/html": [
       "<pre>+---------+--------------+-------------------+-----------------------+-------------+</pre>"
      ],
      "text/plain": [
       "+---------+--------------+-------------------+-----------------------+-------------+"
      ]
     },
     "metadata": {},
     "output_type": "display_data"
    },
    {
     "data": {
      "text/html": [
       "<pre>| 1       | 329.835ms    | 21.7601           | 4.66446               | 0.0244141   |</pre>"
      ],
      "text/plain": [
       "| 1       | 329.835ms    | 21.7601           | 4.66446               | 0.0244141   |"
      ]
     },
     "metadata": {},
     "output_type": "display_data"
    },
    {
     "data": {
      "text/html": [
       "<pre>| 2       | 601.731ms    | 17.9081           | 4.23172               | 0.0145167   |</pre>"
      ],
      "text/plain": [
       "| 2       | 601.731ms    | 17.9081           | 4.23172               | 0.0145167   |"
      ]
     },
     "metadata": {},
     "output_type": "display_data"
    },
    {
     "data": {
      "text/html": [
       "<pre>| 3       | 982.912ms    | 15.7356           | 3.96679               | 0.0107102   |</pre>"
      ],
      "text/plain": [
       "| 3       | 982.912ms    | 15.7356           | 3.96679               | 0.0107102   |"
      ]
     },
     "metadata": {},
     "output_type": "display_data"
    },
    {
     "data": {
      "text/html": [
       "<pre>| 4       | 1.30s        | 14.4317           | 3.7989                | 0.00863167  |</pre>"
      ],
      "text/plain": [
       "| 4       | 1.30s        | 14.4317           | 3.7989                | 0.00863167  |"
      ]
     },
     "metadata": {},
     "output_type": "display_data"
    },
    {
     "data": {
      "text/html": [
       "<pre>| 5       | 1.66s        | 13.535            | 3.67899               | 0.00730151  |</pre>"
      ],
      "text/plain": [
       "| 5       | 1.66s        | 13.535            | 3.67899               | 0.00730151  |"
      ]
     },
     "metadata": {},
     "output_type": "display_data"
    },
    {
     "data": {
      "text/html": [
       "<pre>| 6       | 1.92s        | 12.9162           | 3.59392               | 0.00636835  |</pre>"
      ],
      "text/plain": [
       "| 6       | 1.92s        | 12.9162           | 3.59392               | 0.00636835  |"
      ]
     },
     "metadata": {},
     "output_type": "display_data"
    },
    {
     "data": {
      "text/html": [
       "<pre>| 10      | 3.01s        | 11.4316           | 3.38106               | 0.0043415   |</pre>"
      ],
      "text/plain": [
       "| 10      | 3.01s        | 11.4316           | 3.38106               | 0.0043415   |"
      ]
     },
     "metadata": {},
     "output_type": "display_data"
    },
    {
     "data": {
      "text/html": [
       "<pre>| 11      | 3.36s        | 11.1724           | 3.34251               | 0.00404199  |</pre>"
      ],
      "text/plain": [
       "| 11      | 3.36s        | 11.1724           | 3.34251               | 0.00404199  |"
      ]
     },
     "metadata": {},
     "output_type": "display_data"
    },
    {
     "data": {
      "text/html": [
       "<pre>| 15      | 4.46s        | 10.5237           | 3.24402               | 0.00320311  |</pre>"
      ],
      "text/plain": [
       "| 15      | 4.46s        | 10.5237           | 3.24402               | 0.00320311  |"
      ]
     },
     "metadata": {},
     "output_type": "display_data"
    },
    {
     "data": {
      "text/html": [
       "<pre>| 20      | 5.80s        | 10.1434           | 3.18487               | 0.00258147  |</pre>"
      ],
      "text/plain": [
       "| 20      | 5.80s        | 10.1434           | 3.18487               | 0.00258147  |"
      ]
     },
     "metadata": {},
     "output_type": "display_data"
    },
    {
     "data": {
      "text/html": [
       "<pre>| 25      | 7.01s        | 9.87055           | 3.14174               | 0.00218366  |</pre>"
      ],
      "text/plain": [
       "| 25      | 7.01s        | 9.87055           | 3.14174               | 0.00218366  |"
      ]
     },
     "metadata": {},
     "output_type": "display_data"
    },
    {
     "data": {
      "text/html": [
       "<pre>| 30      | 8.23s        | 9.60706           | 3.09952               | 0.00160155  |</pre>"
      ],
      "text/plain": [
       "| 30      | 8.23s        | 9.60706           | 3.09952               | 0.00160155  |"
      ]
     },
     "metadata": {},
     "output_type": "display_data"
    },
    {
     "data": {
      "text/html": [
       "<pre>| 35      | 9.49s        | 9.40571           | 3.06687               | 0.00100883  |</pre>"
      ],
      "text/plain": [
       "| 35      | 9.49s        | 9.40571           | 3.06687               | 0.00100883  |"
      ]
     },
     "metadata": {},
     "output_type": "display_data"
    },
    {
     "data": {
      "text/html": [
       "<pre>| 40      | 10.65s       | 9.33511           | 3.05534               | 0.000912688 |</pre>"
      ],
      "text/plain": [
       "| 40      | 10.65s       | 9.33511           | 3.05534               | 0.000912688 |"
      ]
     },
     "metadata": {},
     "output_type": "display_data"
    },
    {
     "data": {
      "text/html": [
       "<pre>| 45      | 11.85s       | 9.19317           | 3.03202               | 0.000496805 |</pre>"
      ],
      "text/plain": [
       "| 45      | 11.85s       | 9.19317           | 3.03202               | 0.000496805 |"
      ]
     },
     "metadata": {},
     "output_type": "display_data"
    },
    {
     "data": {
      "text/html": [
       "<pre>| 50      | 13.01s       | 9.12995           | 3.02158               | 0.000272958 |</pre>"
      ],
      "text/plain": [
       "| 50      | 13.01s       | 9.12995           | 3.02158               | 0.000272958 |"
      ]
     },
     "metadata": {},
     "output_type": "display_data"
    },
    {
     "data": {
      "text/html": [
       "<pre>+---------+--------------+-------------------+-----------------------+-------------+</pre>"
      ],
      "text/plain": [
       "+---------+--------------+-------------------+-----------------------+-------------+"
      ]
     },
     "metadata": {},
     "output_type": "display_data"
    },
    {
     "data": {
      "text/html": [
       "<pre>Optimization Complete: Maximum number of passes through the data reached.</pre>"
      ],
      "text/plain": [
       "Optimization Complete: Maximum number of passes through the data reached."
      ]
     },
     "metadata": {},
     "output_type": "display_data"
    },
    {
     "data": {
      "text/html": [
       "<pre>Computing final objective value and training RMSE.</pre>"
      ],
      "text/plain": [
       "Computing final objective value and training RMSE."
      ]
     },
     "metadata": {},
     "output_type": "display_data"
    },
    {
     "data": {
      "text/html": [
       "<pre>       Final objective value: 9.10924</pre>"
      ],
      "text/plain": [
       "       Final objective value: 9.10924"
      ]
     },
     "metadata": {},
     "output_type": "display_data"
    },
    {
     "data": {
      "text/html": [
       "<pre>       Final training RMSE: 3.01815</pre>"
      ],
      "text/plain": [
       "       Final training RMSE: 3.01815"
      ]
     },
     "metadata": {},
     "output_type": "display_data"
    }
   ],
   "source": [
    "rating_recommender2 = graphlab.recommender.factorization_recommender.create(\n",
    "    sf, \n",
    "    user_id = 'user_id', \n",
    "    item_id = 'joke_id', \n",
    "    target = 'rating', \n",
    "    solver = 'sgd', \n",
    "    regularization = 1e-12)"
   ]
  },
  {
   "cell_type": "code",
   "execution_count": 32,
   "metadata": {
    "collapsed": false
   },
   "outputs": [
    {
     "name": "stdout",
     "output_type": "stream",
     "text": [
      "rmse with solver = als: 2.98772322845\n",
      "rmse with solver = sgd: 3.01814843306\n"
     ]
    }
   ],
   "source": [
    "print 'rmse with solver = als:', rmses[3]\n",
    "print 'rmse with solver = sgd:', rating_recommender2.get('training_rmse')\n",
    "#als is the better solver"
   ]
  },
  {
   "cell_type": "code",
   "execution_count": 36,
   "metadata": {
    "collapsed": false
   },
   "outputs": [],
   "source": [
    "'''\n",
    "Add in feature information as side data to improve our model.\n",
    "Use whether or not a joke has question mark in it as the feature under the hypothesis that \n",
    "joke with a question has a dramatic effect which may increase the ratings.\n",
    "Make a dummy column \"joke_has_qmark\" with values 1 and 0.\n",
    "Then transform it to SFrame to use it as side data.\n",
    "'''\n",
    "joke_has_qmark = []\n",
    "for joke in df_ratings['joke_id']:\n",
    "    if joke == 151 or '?' in cleanjokeslist[joke - 1]:\n",
    "        joke_has_qmark.append(1)\n",
    "    else:\n",
    "        joke_has_qmark.append(0)"
   ]
  },
  {
   "cell_type": "code",
   "execution_count": 37,
   "metadata": {
    "collapsed": false,
    "scrolled": true
   },
   "outputs": [
    {
     "name": "stdout",
     "output_type": "stream",
     "text": [
      "1218325\n",
      "[0, 1, 0, 1, 1, 1, 0, 1, 1, 1]\n"
     ]
    }
   ],
   "source": [
    "print len(joke_has_qmark)\n",
    "print joke_has_qmark[:10]"
   ]
  },
  {
   "cell_type": "code",
   "execution_count": 38,
   "metadata": {
    "collapsed": false
   },
   "outputs": [
    {
     "data": {
      "text/html": [
       "<div>\n",
       "<table border=\"1\" class=\"dataframe\">\n",
       "  <thead>\n",
       "    <tr style=\"text-align: right;\">\n",
       "      <th></th>\n",
       "      <th>joke_id</th>\n",
       "      <th>joke_has_qmark</th>\n",
       "    </tr>\n",
       "  </thead>\n",
       "  <tbody>\n",
       "    <tr>\n",
       "      <th>0</th>\n",
       "      <td>111</td>\n",
       "      <td>0</td>\n",
       "    </tr>\n",
       "    <tr>\n",
       "      <th>1</th>\n",
       "      <td>119</td>\n",
       "      <td>1</td>\n",
       "    </tr>\n",
       "    <tr>\n",
       "      <th>2</th>\n",
       "      <td>137</td>\n",
       "      <td>0</td>\n",
       "    </tr>\n",
       "    <tr>\n",
       "      <th>3</th>\n",
       "      <td>30</td>\n",
       "      <td>1</td>\n",
       "    </tr>\n",
       "    <tr>\n",
       "      <th>4</th>\n",
       "      <td>19</td>\n",
       "      <td>1</td>\n",
       "    </tr>\n",
       "  </tbody>\n",
       "</table>\n",
       "</div>"
      ],
      "text/plain": [
       "   joke_id  joke_has_qmark\n",
       "0      111               0\n",
       "1      119               1\n",
       "2      137               0\n",
       "3       30               1\n",
       "4       19               1"
      ]
     },
     "execution_count": 38,
     "metadata": {},
     "output_type": "execute_result"
    }
   ],
   "source": [
    "feature_matrix = pd.DataFrame(df_ratings['joke_id'])\n",
    "feature_matrix['joke_has_qmark'] = joke_has_qmark\n",
    "feature_matrix.head()"
   ]
  },
  {
   "cell_type": "code",
   "execution_count": 39,
   "metadata": {
    "collapsed": false
   },
   "outputs": [
    {
     "data": {
      "text/plain": [
       "(1218325, 2)"
      ]
     },
     "execution_count": 39,
     "metadata": {},
     "output_type": "execute_result"
    }
   ],
   "source": [
    "feature_matrix.shape"
   ]
  },
  {
   "cell_type": "code",
   "execution_count": 40,
   "metadata": {
    "collapsed": false
   },
   "outputs": [
    {
     "data": {
      "text/html": [
       "<div style=\"max-height:1000px;max-width:1500px;overflow:auto;\"><table frame=\"box\" rules=\"cols\">\n",
       "    <tr>\n",
       "        <th style=\"padding-left: 1em; padding-right: 1em; text-align: center\">joke_id</th>\n",
       "        <th style=\"padding-left: 1em; padding-right: 1em; text-align: center\">joke_has_qmark</th>\n",
       "    </tr>\n",
       "    <tr>\n",
       "        <td style=\"padding-left: 1em; padding-right: 1em; text-align: center; vertical-align: top\">111</td>\n",
       "        <td style=\"padding-left: 1em; padding-right: 1em; text-align: center; vertical-align: top\">0</td>\n",
       "    </tr>\n",
       "    <tr>\n",
       "        <td style=\"padding-left: 1em; padding-right: 1em; text-align: center; vertical-align: top\">119</td>\n",
       "        <td style=\"padding-left: 1em; padding-right: 1em; text-align: center; vertical-align: top\">1</td>\n",
       "    </tr>\n",
       "    <tr>\n",
       "        <td style=\"padding-left: 1em; padding-right: 1em; text-align: center; vertical-align: top\">137</td>\n",
       "        <td style=\"padding-left: 1em; padding-right: 1em; text-align: center; vertical-align: top\">0</td>\n",
       "    </tr>\n",
       "    <tr>\n",
       "        <td style=\"padding-left: 1em; padding-right: 1em; text-align: center; vertical-align: top\">30</td>\n",
       "        <td style=\"padding-left: 1em; padding-right: 1em; text-align: center; vertical-align: top\">1</td>\n",
       "    </tr>\n",
       "    <tr>\n",
       "        <td style=\"padding-left: 1em; padding-right: 1em; text-align: center; vertical-align: top\">19</td>\n",
       "        <td style=\"padding-left: 1em; padding-right: 1em; text-align: center; vertical-align: top\">1</td>\n",
       "    </tr>\n",
       "    <tr>\n",
       "        <td style=\"padding-left: 1em; padding-right: 1em; text-align: center; vertical-align: top\">51</td>\n",
       "        <td style=\"padding-left: 1em; padding-right: 1em; text-align: center; vertical-align: top\">1</td>\n",
       "    </tr>\n",
       "    <tr>\n",
       "        <td style=\"padding-left: 1em; padding-right: 1em; text-align: center; vertical-align: top\">9</td>\n",
       "        <td style=\"padding-left: 1em; padding-right: 1em; text-align: center; vertical-align: top\">0</td>\n",
       "    </tr>\n",
       "    <tr>\n",
       "        <td style=\"padding-left: 1em; padding-right: 1em; text-align: center; vertical-align: top\">134</td>\n",
       "        <td style=\"padding-left: 1em; padding-right: 1em; text-align: center; vertical-align: top\">1</td>\n",
       "    </tr>\n",
       "    <tr>\n",
       "        <td style=\"padding-left: 1em; padding-right: 1em; text-align: center; vertical-align: top\">128</td>\n",
       "        <td style=\"padding-left: 1em; padding-right: 1em; text-align: center; vertical-align: top\">1</td>\n",
       "    </tr>\n",
       "    <tr>\n",
       "        <td style=\"padding-left: 1em; padding-right: 1em; text-align: center; vertical-align: top\">120</td>\n",
       "        <td style=\"padding-left: 1em; padding-right: 1em; text-align: center; vertical-align: top\">1</td>\n",
       "    </tr>\n",
       "</table>\n",
       "[1218325 rows x 2 columns]<br/>Note: Only the head of the SFrame is printed.<br/>You can use print_rows(num_rows=m, num_columns=n) to print more rows and columns.\n",
       "</div>"
      ],
      "text/plain": [
       "Columns:\n",
       "\tjoke_id\tint\n",
       "\tjoke_has_qmark\tint\n",
       "\n",
       "Rows: 1218325\n",
       "\n",
       "Data:\n",
       "+---------+----------------+\n",
       "| joke_id | joke_has_qmark |\n",
       "+---------+----------------+\n",
       "|   111   |       0        |\n",
       "|   119   |       1        |\n",
       "|   137   |       0        |\n",
       "|    30   |       1        |\n",
       "|    19   |       1        |\n",
       "|    51   |       1        |\n",
       "|    9    |       0        |\n",
       "|   134   |       1        |\n",
       "|   128   |       1        |\n",
       "|   120   |       1        |\n",
       "+---------+----------------+\n",
       "[1218325 rows x 2 columns]\n",
       "Note: Only the head of the SFrame is printed.\n",
       "You can use print_rows(num_rows=m, num_columns=n) to print more rows and columns."
      ]
     },
     "execution_count": 40,
     "metadata": {},
     "output_type": "execute_result"
    }
   ],
   "source": [
    "sf_feature_matrix = graphlab.SFrame(feature_matrix[['joke_id', 'joke_has_qmark']])\n",
    "sf_feature_matrix"
   ]
  },
  {
   "cell_type": "code",
   "execution_count": 41,
   "metadata": {
    "collapsed": false
   },
   "outputs": [
    {
     "data": {
      "text/html": [
       "<pre>Recsys training: model = factorization_recommender</pre>"
      ],
      "text/plain": [
       "Recsys training: model = factorization_recommender"
      ]
     },
     "metadata": {},
     "output_type": "display_data"
    },
    {
     "data": {
      "text/html": [
       "<pre>Warning: This solver currently does not support side features. Proceeding with training without side features.</pre>"
      ],
      "text/plain": [
       "Warning: This solver currently does not support side features. Proceeding with training without side features."
      ]
     },
     "metadata": {},
     "output_type": "display_data"
    },
    {
     "data": {
      "text/html": [
       "<pre>Preparing data set.</pre>"
      ],
      "text/plain": [
       "Preparing data set."
      ]
     },
     "metadata": {},
     "output_type": "display_data"
    },
    {
     "data": {
      "text/html": [
       "<pre>    Data has 1218325 observations with 50692 users and 141 items.</pre>"
      ],
      "text/plain": [
       "    Data has 1218325 observations with 50692 users and 141 items."
      ]
     },
     "metadata": {},
     "output_type": "display_data"
    },
    {
     "data": {
      "text/html": [
       "<pre>    Data prepared in: 1.79444s</pre>"
      ],
      "text/plain": [
       "    Data prepared in: 1.79444s"
      ]
     },
     "metadata": {},
     "output_type": "display_data"
    },
    {
     "data": {
      "text/html": [
       "<pre>Training factorization_recommender for recommendations.</pre>"
      ],
      "text/plain": [
       "Training factorization_recommender for recommendations."
      ]
     },
     "metadata": {},
     "output_type": "display_data"
    },
    {
     "data": {
      "text/html": [
       "<pre>+------------------------------+--------------------------------------------------+----------+</pre>"
      ],
      "text/plain": [
       "+------------------------------+--------------------------------------------------+----------+"
      ]
     },
     "metadata": {},
     "output_type": "display_data"
    },
    {
     "data": {
      "text/html": [
       "<pre>| Parameter                    | Description                                      | Value    |</pre>"
      ],
      "text/plain": [
       "| Parameter                    | Description                                      | Value    |"
      ]
     },
     "metadata": {},
     "output_type": "display_data"
    },
    {
     "data": {
      "text/html": [
       "<pre>+------------------------------+--------------------------------------------------+----------+</pre>"
      ],
      "text/plain": [
       "+------------------------------+--------------------------------------------------+----------+"
      ]
     },
     "metadata": {},
     "output_type": "display_data"
    },
    {
     "data": {
      "text/html": [
       "<pre>| num_factors                  | Factor Dimension                                 | 8        |</pre>"
      ],
      "text/plain": [
       "| num_factors                  | Factor Dimension                                 | 8        |"
      ]
     },
     "metadata": {},
     "output_type": "display_data"
    },
    {
     "data": {
      "text/html": [
       "<pre>| regularization               | L2 Regularization on Factors                     | 1e-12    |</pre>"
      ],
      "text/plain": [
       "| regularization               | L2 Regularization on Factors                     | 1e-12    |"
      ]
     },
     "metadata": {},
     "output_type": "display_data"
    },
    {
     "data": {
      "text/html": [
       "<pre>| max_iterations               | Maximum Number of Iterations                     | 50       |</pre>"
      ],
      "text/plain": [
       "| max_iterations               | Maximum Number of Iterations                     | 50       |"
      ]
     },
     "metadata": {},
     "output_type": "display_data"
    },
    {
     "data": {
      "text/html": [
       "<pre>| solver                       | Solver used for training                         | als      |</pre>"
      ],
      "text/plain": [
       "| solver                       | Solver used for training                         | als      |"
      ]
     },
     "metadata": {},
     "output_type": "display_data"
    },
    {
     "data": {
      "text/html": [
       "<pre>+------------------------------+--------------------------------------------------+----------+</pre>"
      ],
      "text/plain": [
       "+------------------------------+--------------------------------------------------+----------+"
      ]
     },
     "metadata": {},
     "output_type": "display_data"
    },
    {
     "data": {
      "text/html": [
       "<pre>+---------+--------------+------------------------+</pre>"
      ],
      "text/plain": [
       "+---------+--------------+------------------------+"
      ]
     },
     "metadata": {},
     "output_type": "display_data"
    },
    {
     "data": {
      "text/html": [
       "<pre>| Iter.   | Elapsed time | RMSE                   |</pre>"
      ],
      "text/plain": [
       "| Iter.   | Elapsed time | RMSE                   |"
      ]
     },
     "metadata": {},
     "output_type": "display_data"
    },
    {
     "data": {
      "text/html": [
       "<pre>+---------+--------------+------------------------+</pre>"
      ],
      "text/plain": [
       "+---------+--------------+------------------------+"
      ]
     },
     "metadata": {},
     "output_type": "display_data"
    },
    {
     "data": {
      "text/html": [
       "<pre>| Initial | 94us         | NA                     |</pre>"
      ],
      "text/plain": [
       "| Initial | 94us         | NA                     |"
      ]
     },
     "metadata": {},
     "output_type": "display_data"
    },
    {
     "data": {
      "text/html": [
       "<pre>+---------+--------------+------------------------+</pre>"
      ],
      "text/plain": [
       "+---------+--------------+------------------------+"
      ]
     },
     "metadata": {},
     "output_type": "display_data"
    },
    {
     "data": {
      "text/html": [
       "<pre>| 0       | 884.014ms    | 4.04517                |</pre>"
      ],
      "text/plain": [
       "| 0       | 884.014ms    | 4.04517                |"
      ]
     },
     "metadata": {},
     "output_type": "display_data"
    },
    {
     "data": {
      "text/html": [
       "<pre>| 1       | 1.80s        | 3.27493                |</pre>"
      ],
      "text/plain": [
       "| 1       | 1.80s        | 3.27493                |"
      ]
     },
     "metadata": {},
     "output_type": "display_data"
    },
    {
     "data": {
      "text/html": [
       "<pre>| 2       | 2.85s        | 3.16247                |</pre>"
      ],
      "text/plain": [
       "| 2       | 2.85s        | 3.16247                |"
      ]
     },
     "metadata": {},
     "output_type": "display_data"
    },
    {
     "data": {
      "text/html": [
       "<pre>| 3       | 3.86s        | 3.10918                |</pre>"
      ],
      "text/plain": [
       "| 3       | 3.86s        | 3.10918                |"
      ]
     },
     "metadata": {},
     "output_type": "display_data"
    },
    {
     "data": {
      "text/html": [
       "<pre>| 4       | 4.72s        | 3.07639                |</pre>"
      ],
      "text/plain": [
       "| 4       | 4.72s        | 3.07639                |"
      ]
     },
     "metadata": {},
     "output_type": "display_data"
    },
    {
     "data": {
      "text/html": [
       "<pre>| 5       | 5.52s        | 3.05642                |</pre>"
      ],
      "text/plain": [
       "| 5       | 5.52s        | 3.05642                |"
      ]
     },
     "metadata": {},
     "output_type": "display_data"
    },
    {
     "data": {
      "text/html": [
       "<pre>| 6       | 6.33s        | 3.04391                |</pre>"
      ],
      "text/plain": [
       "| 6       | 6.33s        | 3.04391                |"
      ]
     },
     "metadata": {},
     "output_type": "display_data"
    },
    {
     "data": {
      "text/html": [
       "<pre>| 7       | 7.15s        | 3.03552                |</pre>"
      ],
      "text/plain": [
       "| 7       | 7.15s        | 3.03552                |"
      ]
     },
     "metadata": {},
     "output_type": "display_data"
    },
    {
     "data": {
      "text/html": [
       "<pre>| 8       | 7.96s        | 3.02949                |</pre>"
      ],
      "text/plain": [
       "| 8       | 7.96s        | 3.02949                |"
      ]
     },
     "metadata": {},
     "output_type": "display_data"
    },
    {
     "data": {
      "text/html": [
       "<pre>| 9       | 8.89s        | 3.02489                |</pre>"
      ],
      "text/plain": [
       "| 9       | 8.89s        | 3.02489                |"
      ]
     },
     "metadata": {},
     "output_type": "display_data"
    },
    {
     "data": {
      "text/html": [
       "<pre>| 10      | 9.83s        | 3.0212                 |</pre>"
      ],
      "text/plain": [
       "| 10      | 9.83s        | 3.0212                 |"
      ]
     },
     "metadata": {},
     "output_type": "display_data"
    },
    {
     "data": {
      "text/html": [
       "<pre>| 11      | 10.65s       | 3.01812                |</pre>"
      ],
      "text/plain": [
       "| 11      | 10.65s       | 3.01812                |"
      ]
     },
     "metadata": {},
     "output_type": "display_data"
    },
    {
     "data": {
      "text/html": [
       "<pre>| 12      | 11.44s       | 3.01546                |</pre>"
      ],
      "text/plain": [
       "| 12      | 11.44s       | 3.01546                |"
      ]
     },
     "metadata": {},
     "output_type": "display_data"
    },
    {
     "data": {
      "text/html": [
       "<pre>| 13      | 12.24s       | 3.01312                |</pre>"
      ],
      "text/plain": [
       "| 13      | 12.24s       | 3.01312                |"
      ]
     },
     "metadata": {},
     "output_type": "display_data"
    },
    {
     "data": {
      "text/html": [
       "<pre>| 14      | 13.07s       | 3.01103                |</pre>"
      ],
      "text/plain": [
       "| 14      | 13.07s       | 3.01103                |"
      ]
     },
     "metadata": {},
     "output_type": "display_data"
    },
    {
     "data": {
      "text/html": [
       "<pre>| 15      | 13.87s       | 3.00915                |</pre>"
      ],
      "text/plain": [
       "| 15      | 13.87s       | 3.00915                |"
      ]
     },
     "metadata": {},
     "output_type": "display_data"
    },
    {
     "data": {
      "text/html": [
       "<pre>| 16      | 14.68s       | 3.00746                |</pre>"
      ],
      "text/plain": [
       "| 16      | 14.68s       | 3.00746                |"
      ]
     },
     "metadata": {},
     "output_type": "display_data"
    },
    {
     "data": {
      "text/html": [
       "<pre>| 17      | 15.51s       | 3.00596                |</pre>"
      ],
      "text/plain": [
       "| 17      | 15.51s       | 3.00596                |"
      ]
     },
     "metadata": {},
     "output_type": "display_data"
    },
    {
     "data": {
      "text/html": [
       "<pre>| 18      | 16.31s       | 3.00461                |</pre>"
      ],
      "text/plain": [
       "| 18      | 16.31s       | 3.00461                |"
      ]
     },
     "metadata": {},
     "output_type": "display_data"
    },
    {
     "data": {
      "text/html": [
       "<pre>| 19      | 17.12s       | 3.0034                 |</pre>"
      ],
      "text/plain": [
       "| 19      | 17.12s       | 3.0034                 |"
      ]
     },
     "metadata": {},
     "output_type": "display_data"
    },
    {
     "data": {
      "text/html": [
       "<pre>| 20      | 17.94s       | 3.00231                |</pre>"
      ],
      "text/plain": [
       "| 20      | 17.94s       | 3.00231                |"
      ]
     },
     "metadata": {},
     "output_type": "display_data"
    },
    {
     "data": {
      "text/html": [
       "<pre>| 21      | 18.75s       | 3.0013                 |</pre>"
      ],
      "text/plain": [
       "| 21      | 18.75s       | 3.0013                 |"
      ]
     },
     "metadata": {},
     "output_type": "display_data"
    },
    {
     "data": {
      "text/html": [
       "<pre>| 22      | 19.55s       | 3.00038                |</pre>"
      ],
      "text/plain": [
       "| 22      | 19.55s       | 3.00038                |"
      ]
     },
     "metadata": {},
     "output_type": "display_data"
    },
    {
     "data": {
      "text/html": [
       "<pre>| 23      | 20.39s       | 2.99953                |</pre>"
      ],
      "text/plain": [
       "| 23      | 20.39s       | 2.99953                |"
      ]
     },
     "metadata": {},
     "output_type": "display_data"
    },
    {
     "data": {
      "text/html": [
       "<pre>| 24      | 21.21s       | 2.99874                |</pre>"
      ],
      "text/plain": [
       "| 24      | 21.21s       | 2.99874                |"
      ]
     },
     "metadata": {},
     "output_type": "display_data"
    },
    {
     "data": {
      "text/html": [
       "<pre>| 25      | 22.06s       | 2.99801                |</pre>"
      ],
      "text/plain": [
       "| 25      | 22.06s       | 2.99801                |"
      ]
     },
     "metadata": {},
     "output_type": "display_data"
    },
    {
     "data": {
      "text/html": [
       "<pre>| 26      | 22.86s       | 2.99732                |</pre>"
      ],
      "text/plain": [
       "| 26      | 22.86s       | 2.99732                |"
      ]
     },
     "metadata": {},
     "output_type": "display_data"
    },
    {
     "data": {
      "text/html": [
       "<pre>| 27      | 23.66s       | 2.99667                |</pre>"
      ],
      "text/plain": [
       "| 27      | 23.66s       | 2.99667                |"
      ]
     },
     "metadata": {},
     "output_type": "display_data"
    },
    {
     "data": {
      "text/html": [
       "<pre>| 28      | 24.50s       | 2.99607                |</pre>"
      ],
      "text/plain": [
       "| 28      | 24.50s       | 2.99607                |"
      ]
     },
     "metadata": {},
     "output_type": "display_data"
    },
    {
     "data": {
      "text/html": [
       "<pre>| 29      | 25.32s       | 2.9955                 |</pre>"
      ],
      "text/plain": [
       "| 29      | 25.32s       | 2.9955                 |"
      ]
     },
     "metadata": {},
     "output_type": "display_data"
    },
    {
     "data": {
      "text/html": [
       "<pre>| 30      | 26.12s       | 2.99495                |</pre>"
      ],
      "text/plain": [
       "| 30      | 26.12s       | 2.99495                |"
      ]
     },
     "metadata": {},
     "output_type": "display_data"
    },
    {
     "data": {
      "text/html": [
       "<pre>| 31      | 26.93s       | 2.99444                |</pre>"
      ],
      "text/plain": [
       "| 31      | 26.93s       | 2.99444                |"
      ]
     },
     "metadata": {},
     "output_type": "display_data"
    },
    {
     "data": {
      "text/html": [
       "<pre>| 32      | 28.05s       | 2.99395                |</pre>"
      ],
      "text/plain": [
       "| 32      | 28.05s       | 2.99395                |"
      ]
     },
     "metadata": {},
     "output_type": "display_data"
    },
    {
     "data": {
      "text/html": [
       "<pre>| 33      | 29.42s       | 2.99349                |</pre>"
      ],
      "text/plain": [
       "| 33      | 29.42s       | 2.99349                |"
      ]
     },
     "metadata": {},
     "output_type": "display_data"
    },
    {
     "data": {
      "text/html": [
       "<pre>| 34      | 30.47s       | 2.99305                |</pre>"
      ],
      "text/plain": [
       "| 34      | 30.47s       | 2.99305                |"
      ]
     },
     "metadata": {},
     "output_type": "display_data"
    },
    {
     "data": {
      "text/html": [
       "<pre>| 35      | 31.36s       | 2.99262                |</pre>"
      ],
      "text/plain": [
       "| 35      | 31.36s       | 2.99262                |"
      ]
     },
     "metadata": {},
     "output_type": "display_data"
    },
    {
     "data": {
      "text/html": [
       "<pre>| 36      | 32.17s       | 2.99221                |</pre>"
      ],
      "text/plain": [
       "| 36      | 32.17s       | 2.99221                |"
      ]
     },
     "metadata": {},
     "output_type": "display_data"
    },
    {
     "data": {
      "text/html": [
       "<pre>| 37      | 33.19s       | 2.99182                |</pre>"
      ],
      "text/plain": [
       "| 37      | 33.19s       | 2.99182                |"
      ]
     },
     "metadata": {},
     "output_type": "display_data"
    },
    {
     "data": {
      "text/html": [
       "<pre>| 38      | 34.05s       | 2.99144                |</pre>"
      ],
      "text/plain": [
       "| 38      | 34.05s       | 2.99144                |"
      ]
     },
     "metadata": {},
     "output_type": "display_data"
    },
    {
     "data": {
      "text/html": [
       "<pre>| 39      | 35.19s       | 2.99106                |</pre>"
      ],
      "text/plain": [
       "| 39      | 35.19s       | 2.99106                |"
      ]
     },
     "metadata": {},
     "output_type": "display_data"
    },
    {
     "data": {
      "text/html": [
       "<pre>| 40      | 36.34s       | 2.9907                 |</pre>"
      ],
      "text/plain": [
       "| 40      | 36.34s       | 2.9907                 |"
      ]
     },
     "metadata": {},
     "output_type": "display_data"
    },
    {
     "data": {
      "text/html": [
       "<pre>| 41      | 37.44s       | 2.99035                |</pre>"
      ],
      "text/plain": [
       "| 41      | 37.44s       | 2.99035                |"
      ]
     },
     "metadata": {},
     "output_type": "display_data"
    },
    {
     "data": {
      "text/html": [
       "<pre>| 42      | 38.67s       | 2.99                   |</pre>"
      ],
      "text/plain": [
       "| 42      | 38.67s       | 2.99                   |"
      ]
     },
     "metadata": {},
     "output_type": "display_data"
    },
    {
     "data": {
      "text/html": [
       "<pre>| 43      | 39.77s       | 2.98966                |</pre>"
      ],
      "text/plain": [
       "| 43      | 39.77s       | 2.98966                |"
      ]
     },
     "metadata": {},
     "output_type": "display_data"
    },
    {
     "data": {
      "text/html": [
       "<pre>| 44      | 40.71s       | 2.98932                |</pre>"
      ],
      "text/plain": [
       "| 44      | 40.71s       | 2.98932                |"
      ]
     },
     "metadata": {},
     "output_type": "display_data"
    },
    {
     "data": {
      "text/html": [
       "<pre>| 45      | 41.98s       | 2.98899                |</pre>"
      ],
      "text/plain": [
       "| 45      | 41.98s       | 2.98899                |"
      ]
     },
     "metadata": {},
     "output_type": "display_data"
    },
    {
     "data": {
      "text/html": [
       "<pre>| 46      | 43.15s       | 2.98866                |</pre>"
      ],
      "text/plain": [
       "| 46      | 43.15s       | 2.98866                |"
      ]
     },
     "metadata": {},
     "output_type": "display_data"
    },
    {
     "data": {
      "text/html": [
       "<pre>| 47      | 44.24s       | 2.98834                |</pre>"
      ],
      "text/plain": [
       "| 47      | 44.24s       | 2.98834                |"
      ]
     },
     "metadata": {},
     "output_type": "display_data"
    },
    {
     "data": {
      "text/html": [
       "<pre>| 48      | 45.08s       | 2.98802                |</pre>"
      ],
      "text/plain": [
       "| 48      | 45.08s       | 2.98802                |"
      ]
     },
     "metadata": {},
     "output_type": "display_data"
    },
    {
     "data": {
      "text/html": [
       "<pre>| 49      | 45.85s       | 2.98772                |</pre>"
      ],
      "text/plain": [
       "| 49      | 45.85s       | 2.98772                |"
      ]
     },
     "metadata": {},
     "output_type": "display_data"
    },
    {
     "data": {
      "text/html": [
       "<pre>| FINAL   | 45.85s       | 2.98772                |</pre>"
      ],
      "text/plain": [
       "| FINAL   | 45.85s       | 2.98772                |"
      ]
     },
     "metadata": {},
     "output_type": "display_data"
    },
    {
     "data": {
      "text/html": [
       "<pre>+---------+--------------+------------------------+</pre>"
      ],
      "text/plain": [
       "+---------+--------------+------------------------+"
      ]
     },
     "metadata": {},
     "output_type": "display_data"
    },
    {
     "data": {
      "text/html": [
       "<pre>Optimization Complete: Iteration limit reached.</pre>"
      ],
      "text/plain": [
       "Optimization Complete: Iteration limit reached."
      ]
     },
     "metadata": {},
     "output_type": "display_data"
    }
   ],
   "source": [
    "rating_recommender3 = graphlab.recommender.factorization_recommender.create(\n",
    "    sf, \n",
    "    user_id = 'user_id', \n",
    "    item_id = 'joke_id', \n",
    "    target = 'rating', \n",
    "    solver = 'als', \n",
    "    item_data = sf_feature_matrix, \n",
    "    regularization = 1e-12)"
   ]
  },
  {
   "cell_type": "code",
   "execution_count": 42,
   "metadata": {
    "collapsed": false
   },
   "outputs": [
    {
     "name": "stdout",
     "output_type": "stream",
     "text": [
      "rmse original: 2.98772322845\n",
      "rmse with feature included: 2.98771636502\n"
     ]
    }
   ],
   "source": [
    "print 'rmse original:', rmses[3]\n",
    "print 'rmse with feature included:', rating_recommender3.get('training_rmse')\n",
    "#after adding in feature information, we obtain the best model so far!"
   ]
  },
  {
   "cell_type": "code",
   "execution_count": 50,
   "metadata": {
    "collapsed": false
   },
   "outputs": [
    {
     "data": {
      "text/plain": [
       "<matplotlib.text.Text at 0x125f0ab90>"
      ]
     },
     "execution_count": 50,
     "metadata": {},
     "output_type": "execute_result"
    },
    {
     "data": {
      "image/png": "[encoded data removed]",
      "text/plain": [
       "<matplotlib.figure.Figure at 0x125f1c350>"
      ]
     },
     "metadata": {},
     "output_type": "display_data"
    }
   ],
   "source": [
    "'''\n",
    "Use our model to get the predicted ratings.\n",
    "Plot the distribution of actual ratings and predicted ratings.\n",
    "'''\n",
    "plt.hist(df_ratings['rating'])\n",
    "plt.title('Actual Ratings')\n",
    "plt.xlabel('Rating')\n",
    "plt.ylabel('Number of Users')"
   ]
  },
  {
   "cell_type": "code",
   "execution_count": 51,
   "metadata": {
    "collapsed": false,
    "scrolled": true
   },
   "outputs": [
    {
     "data": {
      "text/plain": [
       "<matplotlib.text.Text at 0x126920410>"
      ]
     },
     "execution_count": 51,
     "metadata": {},
     "output_type": "execute_result"
    },
    {
     "data": {
      "image/png": "[encoded data removed]",
      "text/plain": [
       "<matplotlib.figure.Figure at 0x125f27410>"
      ]
     },
     "metadata": {},
     "output_type": "display_data"
    }
   ],
   "source": [
    "sf_for_predict = graphlab.SFrame(df_ratings[['user_id', 'joke_id']])\n",
    "plt.hist(rating_recommender3.predict(sf_for_predict))\n",
    "plt.title('Predicted Ratings')\n",
    "plt.xlabel('Rating')\n",
    "plt.ylabel('Number of Users')\n",
    "#predicted ratings are more normally distributed!"
   ]
  }
 ],
 "metadata": {
  "kernelspec": {
   "display_name": "Python 2",
   "language": "python",
   "name": "python2"
  },
  "language_info": {
   "codemirror_mode": {
    "name": "ipython",
    "version": 2
   },
   "file_extension": ".py",
   "mimetype": "text/x-python",
   "name": "python",
   "nbconvert_exporter": "python",
   "pygments_lexer": "ipython2",
   "version": "2.7.13"
  }
 },
 "nbformat": 4,
 "nbformat_minor": 2
}
